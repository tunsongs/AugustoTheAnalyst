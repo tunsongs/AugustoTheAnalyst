{
 "cells": [
  {
   "cell_type": "code",
   "execution_count": 66,
   "id": "299805da-1159-4869-9b53-6543f2a8f928",
   "metadata": {},
   "outputs": [],
   "source": [
    "import pandas as pd\n",
    "import numpy as np\n",
    "import matplotlib.pyplot as plt\n",
    "import seaborn as sns\n",
    "import warnings"
   ]
  },
  {
   "cell_type": "code",
   "execution_count": 67,
   "id": "a863ad59-aba6-4285-be02-ab5143762f65",
   "metadata": {},
   "outputs": [],
   "source": [
    "warnings.filterwarnings('ignore')\n"
   ]
  },
  {
   "cell_type": "code",
   "execution_count": 68,
   "id": "e3d53a7b-4e21-4bdc-aad2-0859fe1c7c9a",
   "metadata": {},
   "outputs": [],
   "source": [
    "sales_data = pd.read_csv('sales_data.csv')"
   ]
  },
  {
   "cell_type": "code",
   "execution_count": 69,
   "id": "6b059395-9b62-4e9b-9d81-6a1559725d85",
   "metadata": {},
   "outputs": [
    {
     "data": {
      "text/html": [
       "<div>\n",
       "<style scoped>\n",
       "    .dataframe tbody tr th:only-of-type {\n",
       "        vertical-align: middle;\n",
       "    }\n",
       "\n",
       "    .dataframe tbody tr th {\n",
       "        vertical-align: top;\n",
       "    }\n",
       "\n",
       "    .dataframe thead th {\n",
       "        text-align: right;\n",
       "    }\n",
       "</style>\n",
       "<table border=\"1\" class=\"dataframe\">\n",
       "  <thead>\n",
       "    <tr style=\"text-align: right;\">\n",
       "      <th></th>\n",
       "      <th>Date</th>\n",
       "      <th>Product</th>\n",
       "      <th>Region</th>\n",
       "      <th>Units Sold</th>\n",
       "      <th>Unit Price</th>\n",
       "      <th>Total Sales</th>\n",
       "    </tr>\n",
       "  </thead>\n",
       "  <tbody>\n",
       "    <tr>\n",
       "      <th>0</th>\n",
       "      <td>2024-01-01</td>\n",
       "      <td>Clothing</td>\n",
       "      <td>South</td>\n",
       "      <td>40</td>\n",
       "      <td>275.402517</td>\n",
       "      <td>11016.100698</td>\n",
       "    </tr>\n",
       "    <tr>\n",
       "      <th>1</th>\n",
       "      <td>2024-01-02</td>\n",
       "      <td>Clothing</td>\n",
       "      <td>South</td>\n",
       "      <td>51</td>\n",
       "      <td>946.638119</td>\n",
       "      <td>48278.544053</td>\n",
       "    </tr>\n",
       "    <tr>\n",
       "      <th>2</th>\n",
       "      <td>2024-01-03</td>\n",
       "      <td>Electronics</td>\n",
       "      <td>West</td>\n",
       "      <td>15</td>\n",
       "      <td>68.757222</td>\n",
       "      <td>1031.358328</td>\n",
       "    </tr>\n",
       "    <tr>\n",
       "      <th>3</th>\n",
       "      <td>2024-01-04</td>\n",
       "      <td>Electronics</td>\n",
       "      <td>West</td>\n",
       "      <td>35</td>\n",
       "      <td>546.707440</td>\n",
       "      <td>19134.760392</td>\n",
       "    </tr>\n",
       "    <tr>\n",
       "      <th>4</th>\n",
       "      <td>2024-01-05</td>\n",
       "      <td>Electronics</td>\n",
       "      <td>North</td>\n",
       "      <td>10</td>\n",
       "      <td>921.104220</td>\n",
       "      <td>9211.042204</td>\n",
       "    </tr>\n",
       "  </tbody>\n",
       "</table>\n",
       "</div>"
      ],
      "text/plain": [
       "         Date      Product Region  Units Sold  Unit Price   Total Sales\n",
       "0  2024-01-01     Clothing  South          40  275.402517  11016.100698\n",
       "1  2024-01-02     Clothing  South          51  946.638119  48278.544053\n",
       "2  2024-01-03  Electronics   West          15   68.757222   1031.358328\n",
       "3  2024-01-04  Electronics   West          35  546.707440  19134.760392\n",
       "4  2024-01-05  Electronics  North          10  921.104220   9211.042204"
      ]
     },
     "execution_count": 69,
     "metadata": {},
     "output_type": "execute_result"
    }
   ],
   "source": [
    "sales_data.head(5)\n"
   ]
  },
  {
   "cell_type": "code",
   "execution_count": 70,
   "id": "f723a86c-a1d2-43ec-9a2d-8454b4d32f22",
   "metadata": {},
   "outputs": [
    {
     "data": {
      "text/plain": [
       "Index(['Date', 'Product', 'Region', 'Units Sold', 'Unit Price', 'Total Sales'], dtype='object')"
      ]
     },
     "execution_count": 70,
     "metadata": {},
     "output_type": "execute_result"
    }
   ],
   "source": [
    "sales_data.columns"
   ]
  },
  {
   "cell_type": "code",
   "execution_count": 71,
   "id": "19d7266d-851e-4a4d-8479-83928b5dcc54",
   "metadata": {},
   "outputs": [
    {
     "data": {
      "text/plain": [
       "Date           0\n",
       "Product        0\n",
       "Region         0\n",
       "Units Sold     0\n",
       "Unit Price     0\n",
       "Total Sales    0\n",
       "dtype: int64"
      ]
     },
     "execution_count": 71,
     "metadata": {},
     "output_type": "execute_result"
    }
   ],
   "source": [
    "sales_data.isnull().sum()"
   ]
  },
  {
   "cell_type": "code",
   "execution_count": 72,
   "id": "c16dc421-9c64-484b-8cbf-958caf94aafe",
   "metadata": {},
   "outputs": [
    {
     "data": {
      "text/plain": [
       "0"
      ]
     },
     "execution_count": 72,
     "metadata": {},
     "output_type": "execute_result"
    }
   ],
   "source": [
    "sales_data.duplicated().sum()"
   ]
  },
  {
   "cell_type": "code",
   "execution_count": 73,
   "id": "83ce9344-3365-45f2-b847-da96b5beb567",
   "metadata": {},
   "outputs": [
    {
     "data": {
      "text/plain": [
       "8889830.285973264"
      ]
     },
     "execution_count": 73,
     "metadata": {},
     "output_type": "execute_result"
    }
   ],
   "source": [
    "sales_data[\"Total Sales\"].sum()"
   ]
  },
  {
   "cell_type": "code",
   "execution_count": 74,
   "id": "74a9b8d1-143b-4e22-b72b-4961c106b101",
   "metadata": {},
   "outputs": [],
   "source": [
    "sales_data['Day_of_week'] = pd.to_datetime(sales_data['Date']).dt.strftime(\"%A\")\n"
   ]
  },
  {
   "cell_type": "code",
   "execution_count": 75,
   "id": "346bdbb6-70df-45b4-b8be-f7b0d0c53912",
   "metadata": {},
   "outputs": [],
   "source": [
    "sales_data['month'] = pd.to_datetime(sales_data['Date']).dt.strftime(\"%b\")\n"
   ]
  },
  {
   "cell_type": "code",
   "execution_count": 76,
   "id": "132db4ae-941b-4ea0-a169-d39e3bebd14b",
   "metadata": {},
   "outputs": [],
   "source": [
    "Q1 = ['Jan','Feb','Mar']\n",
    "Q2 = ['Apr','May','Jun']\n",
    "Q3 = ['Jul','Aug','Sep']\n",
    "Q4 = ['Oct','Nov','Dec']\n",
    "\n",
    "def month_handler(row):\n",
    "    if row['month'] in Q1:\n",
    "        return 'Q1'\n",
    "    if row['month'] in Q2:\n",
    "        return 'Q2'\n",
    "    if row['month'] in Q3:\n",
    "        return 'Q3'\n",
    "    if row['month'] in Q4:\n",
    "        return 'Q4'\n",
    "\n",
    "sales_data['Season'] = sales_data.apply(month_handler,axis=1)"
   ]
  },
  {
   "cell_type": "code",
   "execution_count": 77,
   "id": "f4998bad-649b-48a3-baab-4ca59d1c7995",
   "metadata": {},
   "outputs": [],
   "source": [
    "sales_data['year'] = pd.to_datetime(sales_data['Date']).dt.strftime(\"%Y\")\n",
    "\n"
   ]
  },
  {
   "cell_type": "code",
   "execution_count": 78,
   "id": "7ccf774b-792b-4792-8a60-e1063dcd73e8",
   "metadata": {},
   "outputs": [
    {
     "data": {
      "text/plain": [
       "year\n",
       "2024    365\n",
       "Name: count, dtype: int64"
      ]
     },
     "execution_count": 78,
     "metadata": {},
     "output_type": "execute_result"
    }
   ],
   "source": [
    "sales_data['year'].value_counts()"
   ]
  },
  {
   "cell_type": "code",
   "execution_count": 79,
   "id": "f93d3f7f-c266-4c35-8f23-4550686a5aa0",
   "metadata": {},
   "outputs": [],
   "source": [
    "sales_data.drop('Date', axis=1, inplace= True)"
   ]
  },
  {
   "cell_type": "code",
   "execution_count": 80,
   "id": "6b537ca9-81cc-488a-b6e7-286fcba502bd",
   "metadata": {},
   "outputs": [
    {
     "data": {
      "text/plain": [
       "Index(['Product', 'Region', 'Units Sold', 'Unit Price', 'Total Sales',\n",
       "       'Day_of_week', 'month', 'Season', 'year'],\n",
       "      dtype='object')"
      ]
     },
     "execution_count": 80,
     "metadata": {},
     "output_type": "execute_result"
    }
   ],
   "source": [
    "sales_data.columns"
   ]
  },
  {
   "cell_type": "code",
   "execution_count": 81,
   "id": "758127e8-6563-4d5a-bd2f-1c8698500fa2",
   "metadata": {},
   "outputs": [
    {
     "data": {
      "image/png": "[encoded data removed]",
      "text/plain": [
       "<Figure size 1000x600 with 1 Axes>"
      ]
     },
     "metadata": {},
     "output_type": "display_data"
    }
   ],
   "source": [
    "plt.figure(figsize=(10,6))\n",
    "plt.barh(sales_data['Day_of_week'],sales_data['Total Sales'], color= 'black')\n",
    "plt.xlabel('Total Sales',fontsize=16)\n",
    "plt.ylabel('Day Of the week',fontsize=16)\n",
    "plt.title('Day of the Week VS Total Sales',fontsize=20)\n",
    "plt.tight_layout()\n",
    "plt.gcf().patch.set_facecolor('silver')\n",
    "plt.gca().set_facecolor('gold')"
   ]
  },
  {
   "cell_type": "code",
   "execution_count": 82,
   "id": "817660f8-98bb-4d98-b43f-4ddfebb2beff",
   "metadata": {},
   "outputs": [
    {
     "data": {
      "image/png": "[encoded data removed]",
      "text/plain": [
       "<Figure size 1000x600 with 1 Axes>"
      ]
     },
     "metadata": {},
     "output_type": "display_data"
    }
   ],
   "source": [
    "plt.figure(figsize=(10,6))\n",
    "plt.barh(sales_data['month'],sales_data['Total Sales'], color= 'green')\n",
    "plt.xlabel('Total Sales',fontsize=16)\n",
    "plt.ylabel('Months',fontsize=16)\n",
    "plt.title('Months VS Total Sales',fontsize=20)\n",
    "plt.tight_layout()\n",
    "plt.gcf().patch.set_facecolor('silver')\n",
    "plt.gca().set_facecolor('gold')\n"
   ]
  },
  {
   "cell_type": "code",
   "execution_count": 83,
   "id": "851ca97d-e05b-4266-acef-9eb7bcd18600",
   "metadata": {},
   "outputs": [
    {
     "data": {
      "image/png": "[encoded data removed]",
      "text/plain": [
       "<Figure size 1000x600 with 1 Axes>"
      ]
     },
     "metadata": {},
     "output_type": "display_data"
    }
   ],
   "source": [
    "plt.figure(figsize=(10,6))\n",
    "plt.barh(sales_data['Season'],sales_data['Total Sales'], color = 'r')\n",
    "plt.xlabel('Total Sales',fontsize=16)\n",
    "plt.ylabel('Seasons',fontsize=16)\n",
    "plt.title('Seasons VS Total Sales',fontsize=20)\n",
    "plt.tight_layout()\n",
    "plt.gcf().patch.set_facecolor('silver')\n",
    "plt.gca().set_facecolor('gold')\n"
   ]
  },
  {
   "cell_type": "markdown",
   "id": "96787851-8ac0-478a-a8aa-3de906833682",
   "metadata": {},
   "source": [
    "This visualization gives us more insight that there is high sales genertion in Quarter 2 of the year and less sales generation in Q4"
   ]
  },
  {
   "cell_type": "markdown",
   "id": "b4a76eb1-f83b-4bae-8189-80427d48f42c",
   "metadata": {},
   "source": [
    "## Total Revenue by Region"
   ]
  },
  {
   "cell_type": "code",
   "execution_count": 84,
   "id": "2a31d0ca-980e-4b95-b56e-98c1015b758b",
   "metadata": {},
   "outputs": [
    {
     "data": {
      "text/html": [
       "<div>\n",
       "<style scoped>\n",
       "    .dataframe tbody tr th:only-of-type {\n",
       "        vertical-align: middle;\n",
       "    }\n",
       "\n",
       "    .dataframe tbody tr th {\n",
       "        vertical-align: top;\n",
       "    }\n",
       "\n",
       "    .dataframe thead tr th {\n",
       "        text-align: left;\n",
       "    }\n",
       "\n",
       "    .dataframe thead tr:last-of-type th {\n",
       "        text-align: right;\n",
       "    }\n",
       "</style>\n",
       "<table border=\"1\" class=\"dataframe\">\n",
       "  <thead>\n",
       "    <tr>\n",
       "      <th></th>\n",
       "      <th>sum</th>\n",
       "      <th>max</th>\n",
       "      <th>min</th>\n",
       "      <th>mean</th>\n",
       "    </tr>\n",
       "    <tr>\n",
       "      <th></th>\n",
       "      <th>Total Sales</th>\n",
       "      <th>Total Sales</th>\n",
       "      <th>Total Sales</th>\n",
       "      <th>Total Sales</th>\n",
       "    </tr>\n",
       "    <tr>\n",
       "      <th>Region</th>\n",
       "      <th></th>\n",
       "      <th></th>\n",
       "      <th></th>\n",
       "      <th></th>\n",
       "    </tr>\n",
       "  </thead>\n",
       "  <tbody>\n",
       "    <tr>\n",
       "      <th>East</th>\n",
       "      <td>1.818660e+06</td>\n",
       "      <td>78095.444953</td>\n",
       "      <td>447.179590</td>\n",
       "      <td>23618.959441</td>\n",
       "    </tr>\n",
       "    <tr>\n",
       "      <th>North</th>\n",
       "      <td>2.240204e+06</td>\n",
       "      <td>90973.809879</td>\n",
       "      <td>620.588015</td>\n",
       "      <td>25749.470670</td>\n",
       "    </tr>\n",
       "    <tr>\n",
       "      <th>South</th>\n",
       "      <td>2.201272e+06</td>\n",
       "      <td>85276.588256</td>\n",
       "      <td>362.282943</td>\n",
       "      <td>25897.315567</td>\n",
       "    </tr>\n",
       "    <tr>\n",
       "      <th>West</th>\n",
       "      <td>2.629695e+06</td>\n",
       "      <td>95922.209330</td>\n",
       "      <td>53.650961</td>\n",
       "      <td>22669.781359</td>\n",
       "    </tr>\n",
       "    <tr>\n",
       "      <th>Grand total</th>\n",
       "      <td>8.889830e+06</td>\n",
       "      <td>95922.209330</td>\n",
       "      <td>53.650961</td>\n",
       "      <td>24355.699414</td>\n",
       "    </tr>\n",
       "  </tbody>\n",
       "</table>\n",
       "</div>"
      ],
      "text/plain": [
       "                      sum           max         min          mean\n",
       "              Total Sales   Total Sales Total Sales   Total Sales\n",
       "Region                                                           \n",
       "East         1.818660e+06  78095.444953  447.179590  23618.959441\n",
       "North        2.240204e+06  90973.809879  620.588015  25749.470670\n",
       "South        2.201272e+06  85276.588256  362.282943  25897.315567\n",
       "West         2.629695e+06  95922.209330   53.650961  22669.781359\n",
       "Grand total  8.889830e+06  95922.209330   53.650961  24355.699414"
      ]
     },
     "execution_count": 84,
     "metadata": {},
     "output_type": "execute_result"
    }
   ],
   "source": [
    "sales_data.pivot_table(index = 'Region', values='Total Sales', aggfunc= ['sum',max,min,'mean'],margins=True,margins_name='Grand total')"
   ]
  },
  {
   "cell_type": "code",
   "execution_count": 85,
   "id": "2f472809-8a04-411f-903d-dd1cd6c9b2cb",
   "metadata": {},
   "outputs": [
    {
     "data": {
      "image/png": "[encoded data removed]",
      "text/plain": [
       "<Figure size 1000x600 with 1 Axes>"
      ]
     },
     "metadata": {},
     "output_type": "display_data"
    }
   ],
   "source": [
    "plt.figure(figsize=(10,6))\n",
    "plt.barh(sales_data['Region'],sales_data['Total Sales'])\n",
    "plt.xlabel('Total Sales',fontsize=16)\n",
    "plt.ylabel('Region',fontsize=16)\n",
    "plt.title('Regions VS Total Sales',fontsize=20)\n",
    "plt.tight_layout()\n",
    "plt.gcf().patch.set_facecolor('silver')\n",
    "plt.gca().set_facecolor('gold')\n"
   ]
  },
  {
   "cell_type": "markdown",
   "id": "64c8412a-4ab8-42c9-ad6f-358bb65d3396",
   "metadata": {},
   "source": [
    "Looking from this visualization we can tell the west region has the highest sales and East having the minimum Sales \n"
   ]
  },
  {
   "cell_type": "code",
   "execution_count": 86,
   "id": "0c195559-4a62-44f8-84bd-12dc09758976",
   "metadata": {},
   "outputs": [
    {
     "data": {
      "text/html": [
       "<div>\n",
       "<style scoped>\n",
       "    .dataframe tbody tr th:only-of-type {\n",
       "        vertical-align: middle;\n",
       "    }\n",
       "\n",
       "    .dataframe tbody tr th {\n",
       "        vertical-align: top;\n",
       "    }\n",
       "\n",
       "    .dataframe thead th {\n",
       "        text-align: right;\n",
       "    }\n",
       "</style>\n",
       "<table border=\"1\" class=\"dataframe\">\n",
       "  <thead>\n",
       "    <tr style=\"text-align: right;\">\n",
       "      <th></th>\n",
       "      <th>sum</th>\n",
       "      <th>min</th>\n",
       "      <th>max</th>\n",
       "      <th>mean</th>\n",
       "    </tr>\n",
       "    <tr>\n",
       "      <th>Product</th>\n",
       "      <th></th>\n",
       "      <th></th>\n",
       "      <th></th>\n",
       "      <th></th>\n",
       "    </tr>\n",
       "  </thead>\n",
       "  <tbody>\n",
       "    <tr>\n",
       "      <th>Clothing</th>\n",
       "      <td>2.706584e+06</td>\n",
       "      <td>620.588015</td>\n",
       "      <td>85903.978449</td>\n",
       "      <td>22185.116290</td>\n",
       "    </tr>\n",
       "    <tr>\n",
       "      <th>Electronics</th>\n",
       "      <td>3.180736e+06</td>\n",
       "      <td>53.650961</td>\n",
       "      <td>95922.209330</td>\n",
       "      <td>26955.390507</td>\n",
       "    </tr>\n",
       "    <tr>\n",
       "      <th>Furniture</th>\n",
       "      <td>3.002510e+06</td>\n",
       "      <td>500.158314</td>\n",
       "      <td>76526.666813</td>\n",
       "      <td>24020.080150</td>\n",
       "    </tr>\n",
       "  </tbody>\n",
       "</table>\n",
       "</div>"
      ],
      "text/plain": [
       "                      sum         min           max          mean\n",
       "Product                                                          \n",
       "Clothing     2.706584e+06  620.588015  85903.978449  22185.116290\n",
       "Electronics  3.180736e+06   53.650961  95922.209330  26955.390507\n",
       "Furniture    3.002510e+06  500.158314  76526.666813  24020.080150"
      ]
     },
     "execution_count": 86,
     "metadata": {},
     "output_type": "execute_result"
    }
   ],
   "source": [
    "sales_data.groupby('Product')['Total Sales'].agg([sum,min,max,'mean'])\n"
   ]
  },
  {
   "cell_type": "code",
   "execution_count": 87,
   "id": "86eb3d56-747c-4e89-ba75-6af1dff30602",
   "metadata": {},
   "outputs": [
    {
     "data": {
      "image/png": "[encoded data removed]",
      "text/plain": [
       "<Figure size 1000x600 with 1 Axes>"
      ]
     },
     "metadata": {},
     "output_type": "display_data"
    }
   ],
   "source": [
    "plt.figure(figsize=(10,6))\n",
    "plt.barh(sales_data['Product'],sales_data['Total Sales'])\n",
    "plt.xlabel('Total Sales',fontsize=16)\n",
    "plt.ylabel('Product',fontsize=16)\n",
    "plt.title('Products VS Total Sales',fontsize=20)\n",
    "plt.tight_layout()\n",
    "plt.gcf().patch.set_facecolor('silver')\n",
    "plt.gca().set_facecolor('gold')\n"
   ]
  },
  {
   "cell_type": "markdown",
   "id": "c0e5b871-435e-4b6b-b553-c2c90987113c",
   "metadata": {},
   "source": [
    "From Visulaization we can tell Electronics generating the highest Sales and Furniture having the least sales"
   ]
  },
  {
   "cell_type": "code",
   "execution_count": 88,
   "id": "391c36cd-13f4-440d-bb4b-432d3f91b6cd",
   "metadata": {},
   "outputs": [
    {
     "data": {
      "image/png": "[encoded data removed]",
      "text/plain": [
       "<Figure size 1000x600 with 1 Axes>"
      ]
     },
     "metadata": {},
     "output_type": "display_data"
    }
   ],
   "source": [
    "plt.figure(figsize=(10,6))\n",
    "plt.barh(sales_data['Product'],sales_data['Units Sold'], color= 'purple')\n",
    "plt.xlabel('Units Sold',fontsize=16)\n",
    "plt.ylabel('Product',fontsize=16)\n",
    "plt.title('Products VS Units Sold',fontsize=20)\n",
    "plt.tight_layout()\n",
    "plt.gcf().patch.set_facecolor('silver')\n",
    "plt.gca().set_facecolor('gold')\n"
   ]
  },
  {
   "cell_type": "markdown",
   "id": "ad3917dd-6b57-4701-b959-47cfbae8209e",
   "metadata": {},
   "source": [
    "From Visulaization we can tell theres was an equal number of units sold per products"
   ]
  },
  {
   "cell_type": "code",
   "execution_count": 89,
   "id": "a9821ab4-4506-4ddf-9b36-f8d2224cd439",
   "metadata": {
    "scrolled": true
   },
   "outputs": [
    {
     "data": {
      "text/html": [
       "<div>\n",
       "<style scoped>\n",
       "    .dataframe tbody tr th:only-of-type {\n",
       "        vertical-align: middle;\n",
       "    }\n",
       "\n",
       "    .dataframe tbody tr th {\n",
       "        vertical-align: top;\n",
       "    }\n",
       "\n",
       "    .dataframe thead tr th {\n",
       "        text-align: left;\n",
       "    }\n",
       "\n",
       "    .dataframe thead tr:last-of-type th {\n",
       "        text-align: right;\n",
       "    }\n",
       "</style>\n",
       "<table border=\"1\" class=\"dataframe\">\n",
       "  <thead>\n",
       "    <tr>\n",
       "      <th></th>\n",
       "      <th>sum</th>\n",
       "      <th>mean</th>\n",
       "      <th>max</th>\n",
       "      <th>min</th>\n",
       "    </tr>\n",
       "    <tr>\n",
       "      <th></th>\n",
       "      <th>Total Sales</th>\n",
       "      <th>Total Sales</th>\n",
       "      <th>Total Sales</th>\n",
       "      <th>Total Sales</th>\n",
       "    </tr>\n",
       "    <tr>\n",
       "      <th>year</th>\n",
       "      <th></th>\n",
       "      <th></th>\n",
       "      <th></th>\n",
       "      <th></th>\n",
       "    </tr>\n",
       "  </thead>\n",
       "  <tbody>\n",
       "    <tr>\n",
       "      <th>2024</th>\n",
       "      <td>8.889830e+06</td>\n",
       "      <td>24355.699414</td>\n",
       "      <td>95922.20933</td>\n",
       "      <td>53.650961</td>\n",
       "    </tr>\n",
       "  </tbody>\n",
       "</table>\n",
       "</div>"
      ],
      "text/plain": [
       "               sum          mean          max         min\n",
       "       Total Sales   Total Sales  Total Sales Total Sales\n",
       "year                                                     \n",
       "2024  8.889830e+06  24355.699414  95922.20933   53.650961"
      ]
     },
     "execution_count": 89,
     "metadata": {},
     "output_type": "execute_result"
    }
   ],
   "source": [
    "sales_data.pivot_table(index='year', values= 'Total Sales', aggfunc= [sum,'mean',max,min])"
   ]
  },
  {
   "cell_type": "markdown",
   "id": "5661ce06-4ce1-4d7a-b5a1-1da9f10b3845",
   "metadata": {},
   "source": [
    "## Total revenue for the year $8,889,830"
   ]
  },
  {
   "cell_type": "markdown",
   "id": "18439fb7-ecc1-4036-8c2a-1eaa582cd390",
   "metadata": {},
   "source": [
    "## QUANTITATIVE ANALYSIS"
   ]
  },
  {
   "cell_type": "code",
   "execution_count": 90,
   "id": "be690bc5-6915-41e5-b937-82f53d9dc4b0",
   "metadata": {},
   "outputs": [
    {
     "data": {
      "text/html": [
       "<style type=\"text/css\">\n",
       "#T_69f97 th.col_heading {\n",
       "  background-color: #5E17EB;\n",
       "  color: white;\n",
       "}\n",
       "#T_69f97 th.index_name {\n",
       "  background-color: #5E17EB;\n",
       "  color: white;\n",
       "}\n",
       "#T_69f97_row0_col0, #T_69f97_row0_col1, #T_69f97_row0_col2, #T_69f97_row0_col3, #T_69f97_row0_col4, #T_69f97_row0_col5, #T_69f97_row0_col6, #T_69f97_row0_col7, #T_69f97_row0_col8, #T_69f97_row0_col9, #T_69f97_row0_col10, #T_69f97_row0_col11, #T_69f97_row1_col0, #T_69f97_row1_col1, #T_69f97_row1_col2, #T_69f97_row1_col3, #T_69f97_row1_col4, #T_69f97_row1_col5, #T_69f97_row1_col6, #T_69f97_row1_col7, #T_69f97_row1_col8, #T_69f97_row1_col9, #T_69f97_row1_col10, #T_69f97_row1_col11, #T_69f97_row2_col0, #T_69f97_row2_col1, #T_69f97_row2_col2, #T_69f97_row2_col3, #T_69f97_row2_col4, #T_69f97_row2_col5, #T_69f97_row2_col6, #T_69f97_row2_col7, #T_69f97_row2_col8, #T_69f97_row2_col9, #T_69f97_row2_col10, #T_69f97_row2_col11, #T_69f97_row3_col0, #T_69f97_row3_col1, #T_69f97_row3_col2, #T_69f97_row3_col3, #T_69f97_row3_col4, #T_69f97_row3_col5, #T_69f97_row3_col6, #T_69f97_row3_col7, #T_69f97_row3_col8, #T_69f97_row3_col9, #T_69f97_row3_col10, #T_69f97_row3_col11 {\n",
       "  background-color: #ECE3FF;\n",
       "  color: black;\n",
       "}\n",
       "</style>\n",
       "<table id=\"T_69f97\">\n",
       "  <thead>\n",
       "    <tr>\n",
       "      <th class=\"blank level0\" >&nbsp;</th>\n",
       "      <th id=\"T_69f97_level0_col0\" class=\"col_heading level0 col0\" colspan=\"3\">max</th>\n",
       "      <th id=\"T_69f97_level0_col3\" class=\"col_heading level0 col3\" colspan=\"3\">min</th>\n",
       "      <th id=\"T_69f97_level0_col6\" class=\"col_heading level0 col6\" colspan=\"3\">sum</th>\n",
       "      <th id=\"T_69f97_level0_col9\" class=\"col_heading level0 col9\" colspan=\"3\">mean</th>\n",
       "    </tr>\n",
       "    <tr>\n",
       "      <th class=\"index_name level1\" >Product</th>\n",
       "      <th id=\"T_69f97_level1_col0\" class=\"col_heading level1 col0\" >Clothing</th>\n",
       "      <th id=\"T_69f97_level1_col1\" class=\"col_heading level1 col1\" >Electronics</th>\n",
       "      <th id=\"T_69f97_level1_col2\" class=\"col_heading level1 col2\" >Furniture</th>\n",
       "      <th id=\"T_69f97_level1_col3\" class=\"col_heading level1 col3\" >Clothing</th>\n",
       "      <th id=\"T_69f97_level1_col4\" class=\"col_heading level1 col4\" >Electronics</th>\n",
       "      <th id=\"T_69f97_level1_col5\" class=\"col_heading level1 col5\" >Furniture</th>\n",
       "      <th id=\"T_69f97_level1_col6\" class=\"col_heading level1 col6\" >Clothing</th>\n",
       "      <th id=\"T_69f97_level1_col7\" class=\"col_heading level1 col7\" >Electronics</th>\n",
       "      <th id=\"T_69f97_level1_col8\" class=\"col_heading level1 col8\" >Furniture</th>\n",
       "      <th id=\"T_69f97_level1_col9\" class=\"col_heading level1 col9\" >Clothing</th>\n",
       "      <th id=\"T_69f97_level1_col10\" class=\"col_heading level1 col10\" >Electronics</th>\n",
       "      <th id=\"T_69f97_level1_col11\" class=\"col_heading level1 col11\" >Furniture</th>\n",
       "    </tr>\n",
       "    <tr>\n",
       "      <th class=\"index_name level0\" >Region</th>\n",
       "      <th class=\"blank col0\" >&nbsp;</th>\n",
       "      <th class=\"blank col1\" >&nbsp;</th>\n",
       "      <th class=\"blank col2\" >&nbsp;</th>\n",
       "      <th class=\"blank col3\" >&nbsp;</th>\n",
       "      <th class=\"blank col4\" >&nbsp;</th>\n",
       "      <th class=\"blank col5\" >&nbsp;</th>\n",
       "      <th class=\"blank col6\" >&nbsp;</th>\n",
       "      <th class=\"blank col7\" >&nbsp;</th>\n",
       "      <th class=\"blank col8\" >&nbsp;</th>\n",
       "      <th class=\"blank col9\" >&nbsp;</th>\n",
       "      <th class=\"blank col10\" >&nbsp;</th>\n",
       "      <th class=\"blank col11\" >&nbsp;</th>\n",
       "    </tr>\n",
       "  </thead>\n",
       "  <tbody>\n",
       "    <tr>\n",
       "      <th id=\"T_69f97_level0_row0\" class=\"row_heading level0 row0\" >East</th>\n",
       "      <td id=\"T_69f97_row0_col0\" class=\"data row0 col0\" >99</td>\n",
       "      <td id=\"T_69f97_row0_col1\" class=\"data row0 col1\" >99</td>\n",
       "      <td id=\"T_69f97_row0_col2\" class=\"data row0 col2\" >99</td>\n",
       "      <td id=\"T_69f97_row0_col3\" class=\"data row0 col3\" >5</td>\n",
       "      <td id=\"T_69f97_row0_col4\" class=\"data row0 col4\" >8</td>\n",
       "      <td id=\"T_69f97_row0_col5\" class=\"data row0 col5\" >5</td>\n",
       "      <td id=\"T_69f97_row0_col6\" class=\"data row0 col6\" >1713</td>\n",
       "      <td id=\"T_69f97_row0_col7\" class=\"data row0 col7\" >1124</td>\n",
       "      <td id=\"T_69f97_row0_col8\" class=\"data row0 col8\" >1283</td>\n",
       "      <td id=\"T_69f97_row0_col9\" class=\"data row0 col9\" >57.100000</td>\n",
       "      <td id=\"T_69f97_row0_col10\" class=\"data row0 col10\" >48.869565</td>\n",
       "      <td id=\"T_69f97_row0_col11\" class=\"data row0 col11\" >53.458333</td>\n",
       "    </tr>\n",
       "    <tr>\n",
       "      <th id=\"T_69f97_level0_row1\" class=\"row_heading level0 row1\" >North</th>\n",
       "      <td id=\"T_69f97_row1_col0\" class=\"data row1 col0\" >99</td>\n",
       "      <td id=\"T_69f97_row1_col1\" class=\"data row1 col1\" >96</td>\n",
       "      <td id=\"T_69f97_row1_col2\" class=\"data row1 col2\" >96</td>\n",
       "      <td id=\"T_69f97_row1_col3\" class=\"data row1 col3\" >2</td>\n",
       "      <td id=\"T_69f97_row1_col4\" class=\"data row1 col4\" >4</td>\n",
       "      <td id=\"T_69f97_row1_col5\" class=\"data row1 col5\" >2</td>\n",
       "      <td id=\"T_69f97_row1_col6\" class=\"data row1 col6\" >1388</td>\n",
       "      <td id=\"T_69f97_row1_col7\" class=\"data row1 col7\" >1052</td>\n",
       "      <td id=\"T_69f97_row1_col8\" class=\"data row1 col8\" >1912</td>\n",
       "      <td id=\"T_69f97_row1_col9\" class=\"data row1 col9\" >46.266667</td>\n",
       "      <td id=\"T_69f97_row1_col10\" class=\"data row1 col10\" >50.095238</td>\n",
       "      <td id=\"T_69f97_row1_col11\" class=\"data row1 col11\" >53.111111</td>\n",
       "    </tr>\n",
       "    <tr>\n",
       "      <th id=\"T_69f97_level0_row2\" class=\"row_heading level0 row2\" >South</th>\n",
       "      <td id=\"T_69f97_row2_col0\" class=\"data row2 col0\" >92</td>\n",
       "      <td id=\"T_69f97_row2_col1\" class=\"data row2 col1\" >98</td>\n",
       "      <td id=\"T_69f97_row2_col2\" class=\"data row2 col2\" >95</td>\n",
       "      <td id=\"T_69f97_row2_col3\" class=\"data row2 col3\" >4</td>\n",
       "      <td id=\"T_69f97_row2_col4\" class=\"data row2 col4\" >4</td>\n",
       "      <td id=\"T_69f97_row2_col5\" class=\"data row2 col5\" >13</td>\n",
       "      <td id=\"T_69f97_row2_col6\" class=\"data row2 col6\" >1149</td>\n",
       "      <td id=\"T_69f97_row2_col7\" class=\"data row2 col7\" >1788</td>\n",
       "      <td id=\"T_69f97_row2_col8\" class=\"data row2 col8\" >1410</td>\n",
       "      <td id=\"T_69f97_row2_col9\" class=\"data row2 col9\" >44.192308</td>\n",
       "      <td id=\"T_69f97_row2_col10\" class=\"data row2 col10\" >54.181818</td>\n",
       "      <td id=\"T_69f97_row2_col11\" class=\"data row2 col11\" >54.230769</td>\n",
       "    </tr>\n",
       "    <tr>\n",
       "      <th id=\"T_69f97_level0_row3\" class=\"row_heading level0 row3\" >West</th>\n",
       "      <td id=\"T_69f97_row3_col0\" class=\"data row3 col0\" >99</td>\n",
       "      <td id=\"T_69f97_row3_col1\" class=\"data row3 col1\" >99</td>\n",
       "      <td id=\"T_69f97_row3_col2\" class=\"data row3 col2\" >86</td>\n",
       "      <td id=\"T_69f97_row3_col3\" class=\"data row3 col3\" >4</td>\n",
       "      <td id=\"T_69f97_row3_col4\" class=\"data row3 col4\" >1</td>\n",
       "      <td id=\"T_69f97_row3_col5\" class=\"data row3 col5\" >4</td>\n",
       "      <td id=\"T_69f97_row3_col6\" class=\"data row3 col6\" >1764</td>\n",
       "      <td id=\"T_69f97_row3_col7\" class=\"data row3 col7\" >2137</td>\n",
       "      <td id=\"T_69f97_row3_col8\" class=\"data row3 col8\" >1661</td>\n",
       "      <td id=\"T_69f97_row3_col9\" class=\"data row3 col9\" >49.000000</td>\n",
       "      <td id=\"T_69f97_row3_col10\" class=\"data row3 col10\" >52.121951</td>\n",
       "      <td id=\"T_69f97_row3_col11\" class=\"data row3 col11\" >42.589744</td>\n",
       "    </tr>\n",
       "  </tbody>\n",
       "</table>\n"
      ],
      "text/plain": [
       "<pandas.io.formats.style.Styler at 0x1e6ea201e20>"
      ]
     },
     "execution_count": 90,
     "metadata": {},
     "output_type": "execute_result"
    }
   ],
   "source": [
    "sales_data_pivot = sales_data.pivot_table(index= 'Region', columns = 'Product', values= 'Units Sold', aggfunc= [max,min,'sum','mean'])\n",
    "# rename the columns\n",
    "sales_data_pivot.columns.name=''\n",
    "# print the pivot table\n",
    "sales_data_pivot\n",
    "# Styling: Changing Background Color for Column Headers\n",
    "headers = {\n",
    "    'selector': 'th.col_heading',\n",
    "    'props': 'background-color: #5E17EB; color: white;'\n",
    "}\n",
    "\n",
    "index_style = {\n",
    "    'selector': 'th.index_name',\n",
    "    'props': 'background-color: #5E17EB; color: white;'\n",
    "}\n",
    "\n",
    "sales_data_pivot_style = (\n",
    "     sales_data_pivot\n",
    "        .style\n",
    "            .set_table_styles([headers,index_style])\n",
    "            .set_properties(**{'background-color': '#ECE3FF','color': 'black'})\n",
    ")\n",
    "\n",
    "sales_data_pivot_style\n",
    "\n"
   ]
  },
  {
   "cell_type": "code",
   "execution_count": 91,
   "id": "25022cd7-596f-46c8-8a25-1684f3e54d86",
   "metadata": {},
   "outputs": [
    {
     "data": {
      "image/png": "[encoded data removed]",
      "text/plain": [
       "<Figure size 1000x20 with 1 Axes>"
      ]
     },
     "metadata": {},
     "output_type": "display_data"
    },
    {
     "data": {
      "image/png": "[encoded data removed]",
      "text/plain": [
       "<Figure size 1000x20 with 1 Axes>"
      ]
     },
     "metadata": {},
     "output_type": "display_data"
    },
    {
     "data": {
      "image/png": "[encoded data removed]",
      "text/plain": [
       "<Figure size 1000x20 with 1 Axes>"
      ]
     },
     "metadata": {},
     "output_type": "display_data"
    },
    {
     "data": {
      "image/png": "[encoded data removed]",
      "text/plain": [
       "<Figure size 1000x20 with 1 Axes>"
      ]
     },
     "metadata": {},
     "output_type": "display_data"
    }
   ],
   "source": [
    "# Define the colormap\n",
    "for cmap_item in ['viridis', 'magma','Greens','Reds']:\n",
    "    cmap = plt.get_cmap(cmap_item)\n",
    "    # Create a color gradient\n",
    "    gradient = np.linspace(0, 1, 256).reshape(1, -1)\n",
    "\n",
    "    # Display the color palette\n",
    "    plt.figure(figsize=(10, 0.2))\n",
    "    plt.imshow(gradient, aspect='auto', cmap=cmap)\n",
    "    plt.axis('off')\n",
    "    plt.title(f'{cmap_item.capitalize()} Color Palette', loc='left', fontsize=9)\n",
    "    plt.show()\n"
   ]
  },
  {
   "cell_type": "code",
   "execution_count": 92,
   "id": "b27ad18c-c3fa-49bf-82f9-820241f44047",
   "metadata": {},
   "outputs": [
    {
     "data": {
      "image/png": "[encoded data removed]",
      "text/html": [
       "<div style=\"vertical-align: middle;\"><strong>viridis</strong> </div><div class=\"cmap\"><img alt=\"viridis colormap\" title=\"viridis\" style=\"border: 1px solid #555;\" src=\"data:image/png;base64,iVBORw0KGgoAAAANSUhEUgAAAgAAAABACAYAAABsv8+/AAAAFnRFWHRUaXRsZQB2aXJpZGlzIGNvbG9ybWFwrE0mCwAAABx0RVh0RGVzY3JpcHRpb24AdmlyaWRpcyBjb2xvcm1hcAtjl3IAAAAwdEVYdEF1dGhvcgBNYXRwbG90bGliIHYzLjkuMiwgaHR0cHM6Ly9tYXRwbG90bGliLm9yZ2GZxVMAAAAydEVYdFNvZnR3YXJlAE1hdHBsb3RsaWIgdjMuOS4yLCBodHRwczovL21hdHBsb3RsaWIub3JnTz9adAAAAatJREFUeJzt1kFKwkEAxeFnWYJpZrVoFwbdpCN0/3UQBAUtVLJOMX+C930XeIthZn6zl9nrbyZwfnc7xUyy3QyfOG1XwzeS5LC5HL9xMx++kST79dnwjcP1bPhGkhwnOP7jepJrmZ/1aZKdrI/DJ5ar/fCNJLlffQ/feLj6Gr6RJI/Lj+Ebu8X78I0keV68Dd94mn8O30iS3cU0f8z4VxkA+HcEAAAUEgAAUEgAAEAhAQAAhQQAABQSAABQSAAAQCEBAACFBAAAFBIAAFBIAABAIQEAAIUEAAAUEgAAUEgAAEAhAQAAhQQAABQSAABQSAAAQCEBAACFBAAAFBIAAFBIAABAIQEAAIUEAAAUEgAAUEgAAEAhAQAAhQQAABQSAABQSAAAQCEBAACFBAAAFBIAAFBIAABAIQEAAIUEAAAUEgAAUEgAAEAhAQAAhQQAABQSAABQSAAAQCEBAACFBAAAFBIAAFBIAABAIQEAAIUEAAAUEgAAUEgAAEAhAQAAhQQAABQSAABQSAAAQCEBAACFBAAAFBIAAFBIAABAIQEAAIUEAAAUEgAAUOgP4bsVhyX8C7EAAAAASUVORK5CYII=\"></div><div style=\"vertical-align: middle; max-width: 514px; display: flex; justify-content: space-between;\"><div style=\"float: left;\"><div title=\"#440154ff\" style=\"display: inline-block; width: 1em; height: 1em; margin: 0; vertical-align: middle; border: 1px solid #555; background-color: #440154ff;\"></div> under</div><div style=\"margin: 0 auto; display: inline-block;\">bad <div title=\"#00000000\" style=\"display: inline-block; width: 1em; height: 1em; margin: 0; vertical-align: middle; border: 1px solid #555; background-color: #00000000;\"></div></div><div style=\"float: right;\">over <div title=\"#fde725ff\" style=\"display: inline-block; width: 1em; height: 1em; margin: 0; vertical-align: middle; border: 1px solid #555; background-color: #fde725ff;\"></div></div></div>"
      ],
      "text/plain": [
       "<matplotlib.colors.ListedColormap at 0x1e6e9d139e0>"
      ]
     },
     "execution_count": 92,
     "metadata": {},
     "output_type": "execute_result"
    }
   ],
   "source": [
    "\n",
    "plt.get_cmap('viridis',lut=20)\n"
   ]
  },
  {
   "cell_type": "markdown",
   "id": "73de6cb7-5f5a-45fd-bb72-55133adb7bb6",
   "metadata": {},
   "source": [
    "## UNITS SOLD VS REGION VS PRODUCT"
   ]
  },
  {
   "cell_type": "code",
   "execution_count": 93,
   "id": "5681d420-1170-4244-9116-f5ed5dff1e7b",
   "metadata": {},
   "outputs": [
    {
     "data": {
      "text/html": [
       "<style type=\"text/css\">\n",
       "#T_a0bc9 th.col_heading {\n",
       "  background-color: #5E17EB;\n",
       "  color: white;\n",
       "}\n",
       "#T_a0bc9 th.index_name {\n",
       "  background-color: #5E17EB;\n",
       "  color: white;\n",
       "}\n",
       "#T_a0bc9_row0_col0, #T_a0bc9_row0_col1, #T_a0bc9_row0_col2, #T_a0bc9_row0_col3, #T_a0bc9_row0_col4, #T_a0bc9_row0_col9, #T_a0bc9_row1_col0, #T_a0bc9_row1_col8, #T_a0bc9_row2_col5, #T_a0bc9_row2_col10, #T_a0bc9_row2_col11, #T_a0bc9_row3_col0, #T_a0bc9_row3_col1, #T_a0bc9_row3_col6, #T_a0bc9_row3_col7 {\n",
       "  background-color: #fde725;\n",
       "  color: #000000;\n",
       "}\n",
       "#T_a0bc9_row0_col5 {\n",
       "  background-color: #38588c;\n",
       "  color: #f1f1f1;\n",
       "}\n",
       "#T_a0bc9_row0_col6 {\n",
       "  background-color: #c8e020;\n",
       "  color: #000000;\n",
       "}\n",
       "#T_a0bc9_row0_col7 {\n",
       "  background-color: #48186a;\n",
       "  color: #f1f1f1;\n",
       "}\n",
       "#T_a0bc9_row0_col8, #T_a0bc9_row0_col10, #T_a0bc9_row1_col1, #T_a0bc9_row1_col3, #T_a0bc9_row1_col5, #T_a0bc9_row1_col7, #T_a0bc9_row2_col0, #T_a0bc9_row2_col6, #T_a0bc9_row2_col9, #T_a0bc9_row3_col2, #T_a0bc9_row3_col4, #T_a0bc9_row3_col11 {\n",
       "  background-color: #440154;\n",
       "  color: #f1f1f1;\n",
       "}\n",
       "#T_a0bc9_row0_col11 {\n",
       "  background-color: #d5e21a;\n",
       "  color: #000000;\n",
       "}\n",
       "#T_a0bc9_row1_col2 {\n",
       "  background-color: #67cc5c;\n",
       "  color: #000000;\n",
       "}\n",
       "#T_a0bc9_row1_col4, #T_a0bc9_row2_col4 {\n",
       "  background-color: #277f8e;\n",
       "  color: #f1f1f1;\n",
       "}\n",
       "#T_a0bc9_row1_col6 {\n",
       "  background-color: #2b758e;\n",
       "  color: #f1f1f1;\n",
       "}\n",
       "#T_a0bc9_row1_col9 {\n",
       "  background-color: #453882;\n",
       "  color: #f1f1f1;\n",
       "}\n",
       "#T_a0bc9_row1_col10 {\n",
       "  background-color: #3d4d8a;\n",
       "  color: #f1f1f1;\n",
       "}\n",
       "#T_a0bc9_row1_col11 {\n",
       "  background-color: #c0df25;\n",
       "  color: #000000;\n",
       "}\n",
       "#T_a0bc9_row2_col1, #T_a0bc9_row2_col3, #T_a0bc9_row3_col3 {\n",
       "  background-color: #35b779;\n",
       "  color: #f1f1f1;\n",
       "}\n",
       "#T_a0bc9_row2_col2 {\n",
       "  background-color: #40bd72;\n",
       "  color: #f1f1f1;\n",
       "}\n",
       "#T_a0bc9_row2_col7 {\n",
       "  background-color: #3aba76;\n",
       "  color: #f1f1f1;\n",
       "}\n",
       "#T_a0bc9_row2_col8 {\n",
       "  background-color: #414487;\n",
       "  color: #f1f1f1;\n",
       "}\n",
       "#T_a0bc9_row3_col5 {\n",
       "  background-color: #433e85;\n",
       "  color: #f1f1f1;\n",
       "}\n",
       "#T_a0bc9_row3_col8 {\n",
       "  background-color: #22a884;\n",
       "  color: #f1f1f1;\n",
       "}\n",
       "#T_a0bc9_row3_col9 {\n",
       "  background-color: #2c718e;\n",
       "  color: #f1f1f1;\n",
       "}\n",
       "#T_a0bc9_row3_col10 {\n",
       "  background-color: #25ab82;\n",
       "  color: #f1f1f1;\n",
       "}\n",
       "</style>\n",
       "<table id=\"T_a0bc9\">\n",
       "  <thead>\n",
       "    <tr>\n",
       "      <th class=\"blank level0\" >&nbsp;</th>\n",
       "      <th id=\"T_a0bc9_level0_col0\" class=\"col_heading level0 col0\" colspan=\"3\">max</th>\n",
       "      <th id=\"T_a0bc9_level0_col3\" class=\"col_heading level0 col3\" colspan=\"3\">min</th>\n",
       "      <th id=\"T_a0bc9_level0_col6\" class=\"col_heading level0 col6\" colspan=\"3\">sum</th>\n",
       "      <th id=\"T_a0bc9_level0_col9\" class=\"col_heading level0 col9\" colspan=\"3\">mean</th>\n",
       "    </tr>\n",
       "    <tr>\n",
       "      <th class=\"index_name level1\" >Product</th>\n",
       "      <th id=\"T_a0bc9_level1_col0\" class=\"col_heading level1 col0\" >Clothing</th>\n",
       "      <th id=\"T_a0bc9_level1_col1\" class=\"col_heading level1 col1\" >Electronics</th>\n",
       "      <th id=\"T_a0bc9_level1_col2\" class=\"col_heading level1 col2\" >Furniture</th>\n",
       "      <th id=\"T_a0bc9_level1_col3\" class=\"col_heading level1 col3\" >Clothing</th>\n",
       "      <th id=\"T_a0bc9_level1_col4\" class=\"col_heading level1 col4\" >Electronics</th>\n",
       "      <th id=\"T_a0bc9_level1_col5\" class=\"col_heading level1 col5\" >Furniture</th>\n",
       "      <th id=\"T_a0bc9_level1_col6\" class=\"col_heading level1 col6\" >Clothing</th>\n",
       "      <th id=\"T_a0bc9_level1_col7\" class=\"col_heading level1 col7\" >Electronics</th>\n",
       "      <th id=\"T_a0bc9_level1_col8\" class=\"col_heading level1 col8\" >Furniture</th>\n",
       "      <th id=\"T_a0bc9_level1_col9\" class=\"col_heading level1 col9\" >Clothing</th>\n",
       "      <th id=\"T_a0bc9_level1_col10\" class=\"col_heading level1 col10\" >Electronics</th>\n",
       "      <th id=\"T_a0bc9_level1_col11\" class=\"col_heading level1 col11\" >Furniture</th>\n",
       "    </tr>\n",
       "    <tr>\n",
       "      <th class=\"index_name level0\" >Region</th>\n",
       "      <th class=\"blank col0\" >&nbsp;</th>\n",
       "      <th class=\"blank col1\" >&nbsp;</th>\n",
       "      <th class=\"blank col2\" >&nbsp;</th>\n",
       "      <th class=\"blank col3\" >&nbsp;</th>\n",
       "      <th class=\"blank col4\" >&nbsp;</th>\n",
       "      <th class=\"blank col5\" >&nbsp;</th>\n",
       "      <th class=\"blank col6\" >&nbsp;</th>\n",
       "      <th class=\"blank col7\" >&nbsp;</th>\n",
       "      <th class=\"blank col8\" >&nbsp;</th>\n",
       "      <th class=\"blank col9\" >&nbsp;</th>\n",
       "      <th class=\"blank col10\" >&nbsp;</th>\n",
       "      <th class=\"blank col11\" >&nbsp;</th>\n",
       "    </tr>\n",
       "  </thead>\n",
       "  <tbody>\n",
       "    <tr>\n",
       "      <th id=\"T_a0bc9_level0_row0\" class=\"row_heading level0 row0\" >East</th>\n",
       "      <td id=\"T_a0bc9_row0_col0\" class=\"data row0 col0\" >99</td>\n",
       "      <td id=\"T_a0bc9_row0_col1\" class=\"data row0 col1\" >99</td>\n",
       "      <td id=\"T_a0bc9_row0_col2\" class=\"data row0 col2\" >99</td>\n",
       "      <td id=\"T_a0bc9_row0_col3\" class=\"data row0 col3\" >5</td>\n",
       "      <td id=\"T_a0bc9_row0_col4\" class=\"data row0 col4\" >8</td>\n",
       "      <td id=\"T_a0bc9_row0_col5\" class=\"data row0 col5\" >5</td>\n",
       "      <td id=\"T_a0bc9_row0_col6\" class=\"data row0 col6\" >1713</td>\n",
       "      <td id=\"T_a0bc9_row0_col7\" class=\"data row0 col7\" >1124</td>\n",
       "      <td id=\"T_a0bc9_row0_col8\" class=\"data row0 col8\" >1283</td>\n",
       "      <td id=\"T_a0bc9_row0_col9\" class=\"data row0 col9\" >57.100000</td>\n",
       "      <td id=\"T_a0bc9_row0_col10\" class=\"data row0 col10\" >48.869565</td>\n",
       "      <td id=\"T_a0bc9_row0_col11\" class=\"data row0 col11\" >53.458333</td>\n",
       "    </tr>\n",
       "    <tr>\n",
       "      <th id=\"T_a0bc9_level0_row1\" class=\"row_heading level0 row1\" >North</th>\n",
       "      <td id=\"T_a0bc9_row1_col0\" class=\"data row1 col0\" >99</td>\n",
       "      <td id=\"T_a0bc9_row1_col1\" class=\"data row1 col1\" >96</td>\n",
       "      <td id=\"T_a0bc9_row1_col2\" class=\"data row1 col2\" >96</td>\n",
       "      <td id=\"T_a0bc9_row1_col3\" class=\"data row1 col3\" >2</td>\n",
       "      <td id=\"T_a0bc9_row1_col4\" class=\"data row1 col4\" >4</td>\n",
       "      <td id=\"T_a0bc9_row1_col5\" class=\"data row1 col5\" >2</td>\n",
       "      <td id=\"T_a0bc9_row1_col6\" class=\"data row1 col6\" >1388</td>\n",
       "      <td id=\"T_a0bc9_row1_col7\" class=\"data row1 col7\" >1052</td>\n",
       "      <td id=\"T_a0bc9_row1_col8\" class=\"data row1 col8\" >1912</td>\n",
       "      <td id=\"T_a0bc9_row1_col9\" class=\"data row1 col9\" >46.266667</td>\n",
       "      <td id=\"T_a0bc9_row1_col10\" class=\"data row1 col10\" >50.095238</td>\n",
       "      <td id=\"T_a0bc9_row1_col11\" class=\"data row1 col11\" >53.111111</td>\n",
       "    </tr>\n",
       "    <tr>\n",
       "      <th id=\"T_a0bc9_level0_row2\" class=\"row_heading level0 row2\" >South</th>\n",
       "      <td id=\"T_a0bc9_row2_col0\" class=\"data row2 col0\" >92</td>\n",
       "      <td id=\"T_a0bc9_row2_col1\" class=\"data row2 col1\" >98</td>\n",
       "      <td id=\"T_a0bc9_row2_col2\" class=\"data row2 col2\" >95</td>\n",
       "      <td id=\"T_a0bc9_row2_col3\" class=\"data row2 col3\" >4</td>\n",
       "      <td id=\"T_a0bc9_row2_col4\" class=\"data row2 col4\" >4</td>\n",
       "      <td id=\"T_a0bc9_row2_col5\" class=\"data row2 col5\" >13</td>\n",
       "      <td id=\"T_a0bc9_row2_col6\" class=\"data row2 col6\" >1149</td>\n",
       "      <td id=\"T_a0bc9_row2_col7\" class=\"data row2 col7\" >1788</td>\n",
       "      <td id=\"T_a0bc9_row2_col8\" class=\"data row2 col8\" >1410</td>\n",
       "      <td id=\"T_a0bc9_row2_col9\" class=\"data row2 col9\" >44.192308</td>\n",
       "      <td id=\"T_a0bc9_row2_col10\" class=\"data row2 col10\" >54.181818</td>\n",
       "      <td id=\"T_a0bc9_row2_col11\" class=\"data row2 col11\" >54.230769</td>\n",
       "    </tr>\n",
       "    <tr>\n",
       "      <th id=\"T_a0bc9_level0_row3\" class=\"row_heading level0 row3\" >West</th>\n",
       "      <td id=\"T_a0bc9_row3_col0\" class=\"data row3 col0\" >99</td>\n",
       "      <td id=\"T_a0bc9_row3_col1\" class=\"data row3 col1\" >99</td>\n",
       "      <td id=\"T_a0bc9_row3_col2\" class=\"data row3 col2\" >86</td>\n",
       "      <td id=\"T_a0bc9_row3_col3\" class=\"data row3 col3\" >4</td>\n",
       "      <td id=\"T_a0bc9_row3_col4\" class=\"data row3 col4\" >1</td>\n",
       "      <td id=\"T_a0bc9_row3_col5\" class=\"data row3 col5\" >4</td>\n",
       "      <td id=\"T_a0bc9_row3_col6\" class=\"data row3 col6\" >1764</td>\n",
       "      <td id=\"T_a0bc9_row3_col7\" class=\"data row3 col7\" >2137</td>\n",
       "      <td id=\"T_a0bc9_row3_col8\" class=\"data row3 col8\" >1661</td>\n",
       "      <td id=\"T_a0bc9_row3_col9\" class=\"data row3 col9\" >49.000000</td>\n",
       "      <td id=\"T_a0bc9_row3_col10\" class=\"data row3 col10\" >52.121951</td>\n",
       "      <td id=\"T_a0bc9_row3_col11\" class=\"data row3 col11\" >42.589744</td>\n",
       "    </tr>\n",
       "  </tbody>\n",
       "</table>\n"
      ],
      "text/plain": [
       "<pandas.io.formats.style.Styler at 0x1e6e7f32600>"
      ]
     },
     "execution_count": 93,
     "metadata": {},
     "output_type": "execute_result"
    }
   ],
   "source": [
    "(\n",
    "    sales_data_pivot\n",
    "        .style\n",
    "            .set_table_styles([headers, index_style])\n",
    "            .background_gradient(cmap='viridis',subset=sales_data_pivot.columns)\n",
    ")"
   ]
  },
  {
   "cell_type": "code",
   "execution_count": 94,
   "id": "f54a875c-7780-4e70-9ba2-c2fd26ab790a",
   "metadata": {},
   "outputs": [
    {
     "data": {
      "image/png": "[encoded data removed]",
      "text/html": [
       "<div style=\"vertical-align: middle;\"><strong>viridis</strong> </div><div class=\"cmap\"><img alt=\"viridis colormap\" title=\"viridis\" style=\"border: 1px solid #555;\" src=\"data:image/png;base64,iVBORw0KGgoAAAANSUhEUgAAAgAAAABACAYAAABsv8+/AAAAFnRFWHRUaXRsZQB2aXJpZGlzIGNvbG9ybWFwrE0mCwAAABx0RVh0RGVzY3JpcHRpb24AdmlyaWRpcyBjb2xvcm1hcAtjl3IAAAAwdEVYdEF1dGhvcgBNYXRwbG90bGliIHYzLjkuMiwgaHR0cHM6Ly9tYXRwbG90bGliLm9yZ2GZxVMAAAAydEVYdFNvZnR3YXJlAE1hdHBsb3RsaWIgdjMuOS4yLCBodHRwczovL21hdHBsb3RsaWIub3JnTz9adAAAAatJREFUeJzt1kFKwkEAxeFnWYJpZrVoFwbdpCN0/3UQBAUtVLJOMX+C930XeIthZn6zl9nrbyZwfnc7xUyy3QyfOG1XwzeS5LC5HL9xMx++kST79dnwjcP1bPhGkhwnOP7jepJrmZ/1aZKdrI/DJ5ar/fCNJLlffQ/feLj6Gr6RJI/Lj+Ebu8X78I0keV68Dd94mn8O30iS3cU0f8z4VxkA+HcEAAAUEgAAUEgAAEAhAQAAhQQAABQSAABQSAAAQCEBAACFBAAAFBIAAFBIAABAIQEAAIUEAAAUEgAAUEgAAEAhAQAAhQQAABQSAABQSAAAQCEBAACFBAAAFBIAAFBIAABAIQEAAIUEAAAUEgAAUEgAAEAhAQAAhQQAABQSAABQSAAAQCEBAACFBAAAFBIAAFBIAABAIQEAAIUEAAAUEgAAUEgAAEAhAQAAhQQAABQSAABQSAAAQCEBAACFBAAAFBIAAFBIAABAIQEAAIUEAAAUEgAAUEgAAEAhAQAAhQQAABQSAABQSAAAQCEBAACFBAAAFBIAAFBIAABAIQEAAIUEAAAUEgAAUOgP4bsVhyX8C7EAAAAASUVORK5CYII=\"></div><div style=\"vertical-align: middle; max-width: 514px; display: flex; justify-content: space-between;\"><div style=\"float: left;\"><div title=\"#440154ff\" style=\"display: inline-block; width: 1em; height: 1em; margin: 0; vertical-align: middle; border: 1px solid #555; background-color: #440154ff;\"></div> under</div><div style=\"margin: 0 auto; display: inline-block;\">bad <div title=\"#00000000\" style=\"display: inline-block; width: 1em; height: 1em; margin: 0; vertical-align: middle; border: 1px solid #555; background-color: #00000000;\"></div></div><div style=\"float: right;\">over <div title=\"#fde725ff\" style=\"display: inline-block; width: 1em; height: 1em; margin: 0; vertical-align: middle; border: 1px solid #555; background-color: #fde725ff;\"></div></div></div>"
      ],
      "text/plain": [
       "<matplotlib.colors.ListedColormap at 0x1e6e832a8d0>"
      ]
     },
     "execution_count": 94,
     "metadata": {},
     "output_type": "execute_result"
    }
   ],
   "source": [
    "sales_data_pivot = sales_data.pivot_table(index= 'Region', columns = 'Product', values= 'Total Sales', aggfunc= [max,min,'sum','mean'])\n",
    "plt.get_cmap('viridis',lut=20)"
   ]
  },
  {
   "cell_type": "markdown",
   "id": "faf81762-85bc-402f-a6bf-52284d60f78f",
   "metadata": {},
   "source": [
    " ## TOTAL SALES VS REGION VS PRODUCT"
   ]
  },
  {
   "cell_type": "code",
   "execution_count": 95,
   "id": "6e0ecd03-b914-46ea-9da2-dfc828fffea7",
   "metadata": {},
   "outputs": [
    {
     "data": {
      "text/html": [
       "<style type=\"text/css\">\n",
       "#T_b9a80 th.col_heading {\n",
       "  background-color: #5E17EB;\n",
       "  color: white;\n",
       "}\n",
       "#T_b9a80 th.index_name {\n",
       "  background-color: #5E17EB;\n",
       "  color: white;\n",
       "}\n",
       "#T_b9a80_row0_col0 {\n",
       "  background-color: #23a983;\n",
       "  color: #f1f1f1;\n",
       "}\n",
       "#T_b9a80_row0_col1, #T_b9a80_row0_col2, #T_b9a80_row0_col7, #T_b9a80_row0_col8, #T_b9a80_row0_col10, #T_b9a80_row1_col0, #T_b9a80_row1_col3, #T_b9a80_row1_col6, #T_b9a80_row1_col9, #T_b9a80_row2_col5, #T_b9a80_row3_col4, #T_b9a80_row3_col11 {\n",
       "  background-color: #440154;\n",
       "  color: #f1f1f1;\n",
       "}\n",
       "#T_b9a80_row0_col3, #T_b9a80_row0_col6, #T_b9a80_row0_col9, #T_b9a80_row1_col4, #T_b9a80_row1_col5, #T_b9a80_row1_col8, #T_b9a80_row1_col10, #T_b9a80_row2_col11, #T_b9a80_row3_col0, #T_b9a80_row3_col1, #T_b9a80_row3_col2, #T_b9a80_row3_col7 {\n",
       "  background-color: #fde725;\n",
       "  color: #000000;\n",
       "}\n",
       "#T_b9a80_row0_col4 {\n",
       "  background-color: #423f85;\n",
       "  color: #f1f1f1;\n",
       "}\n",
       "#T_b9a80_row0_col5 {\n",
       "  background-color: #33638d;\n",
       "  color: #f1f1f1;\n",
       "}\n",
       "#T_b9a80_row0_col11 {\n",
       "  background-color: #29798e;\n",
       "  color: #f1f1f1;\n",
       "}\n",
       "#T_b9a80_row1_col1 {\n",
       "  background-color: #a2da37;\n",
       "  color: #000000;\n",
       "}\n",
       "#T_b9a80_row1_col2 {\n",
       "  background-color: #b5de2b;\n",
       "  color: #000000;\n",
       "}\n",
       "#T_b9a80_row1_col7 {\n",
       "  background-color: #1f948c;\n",
       "  color: #f1f1f1;\n",
       "}\n",
       "#T_b9a80_row1_col11 {\n",
       "  background-color: #1fa188;\n",
       "  color: #f1f1f1;\n",
       "}\n",
       "#T_b9a80_row2_col0 {\n",
       "  background-color: #bddf26;\n",
       "  color: #000000;\n",
       "}\n",
       "#T_b9a80_row2_col1 {\n",
       "  background-color: #46c06f;\n",
       "  color: #f1f1f1;\n",
       "}\n",
       "#T_b9a80_row2_col2 {\n",
       "  background-color: #481f70;\n",
       "  color: #f1f1f1;\n",
       "}\n",
       "#T_b9a80_row2_col3 {\n",
       "  background-color: #3e4c8a;\n",
       "  color: #f1f1f1;\n",
       "}\n",
       "#T_b9a80_row2_col4 {\n",
       "  background-color: #46337f;\n",
       "  color: #f1f1f1;\n",
       "}\n",
       "#T_b9a80_row2_col6 {\n",
       "  background-color: #481a6c;\n",
       "  color: #f1f1f1;\n",
       "}\n",
       "#T_b9a80_row2_col7 {\n",
       "  background-color: #4ac16d;\n",
       "  color: #000000;\n",
       "}\n",
       "#T_b9a80_row2_col8 {\n",
       "  background-color: #27808e;\n",
       "  color: #f1f1f1;\n",
       "}\n",
       "#T_b9a80_row2_col9 {\n",
       "  background-color: #24878e;\n",
       "  color: #f1f1f1;\n",
       "}\n",
       "#T_b9a80_row2_col10 {\n",
       "  background-color: #23888e;\n",
       "  color: #f1f1f1;\n",
       "}\n",
       "#T_b9a80_row3_col3 {\n",
       "  background-color: #218e8d;\n",
       "  color: #f1f1f1;\n",
       "}\n",
       "#T_b9a80_row3_col5 {\n",
       "  background-color: #29af7f;\n",
       "  color: #f1f1f1;\n",
       "}\n",
       "#T_b9a80_row3_col6 {\n",
       "  background-color: #1fa187;\n",
       "  color: #f1f1f1;\n",
       "}\n",
       "#T_b9a80_row3_col8 {\n",
       "  background-color: #8bd646;\n",
       "  color: #000000;\n",
       "}\n",
       "#T_b9a80_row3_col9 {\n",
       "  background-color: #481769;\n",
       "  color: #f1f1f1;\n",
       "}\n",
       "#T_b9a80_row3_col10 {\n",
       "  background-color: #287d8e;\n",
       "  color: #f1f1f1;\n",
       "}\n",
       "</style>\n",
       "<table id=\"T_b9a80\">\n",
       "  <thead>\n",
       "    <tr>\n",
       "      <th class=\"blank level0\" >&nbsp;</th>\n",
       "      <th id=\"T_b9a80_level0_col0\" class=\"col_heading level0 col0\" colspan=\"3\">max</th>\n",
       "      <th id=\"T_b9a80_level0_col3\" class=\"col_heading level0 col3\" colspan=\"3\">min</th>\n",
       "      <th id=\"T_b9a80_level0_col6\" class=\"col_heading level0 col6\" colspan=\"3\">sum</th>\n",
       "      <th id=\"T_b9a80_level0_col9\" class=\"col_heading level0 col9\" colspan=\"3\">mean</th>\n",
       "    </tr>\n",
       "    <tr>\n",
       "      <th class=\"index_name level1\" >Product</th>\n",
       "      <th id=\"T_b9a80_level1_col0\" class=\"col_heading level1 col0\" >Clothing</th>\n",
       "      <th id=\"T_b9a80_level1_col1\" class=\"col_heading level1 col1\" >Electronics</th>\n",
       "      <th id=\"T_b9a80_level1_col2\" class=\"col_heading level1 col2\" >Furniture</th>\n",
       "      <th id=\"T_b9a80_level1_col3\" class=\"col_heading level1 col3\" >Clothing</th>\n",
       "      <th id=\"T_b9a80_level1_col4\" class=\"col_heading level1 col4\" >Electronics</th>\n",
       "      <th id=\"T_b9a80_level1_col5\" class=\"col_heading level1 col5\" >Furniture</th>\n",
       "      <th id=\"T_b9a80_level1_col6\" class=\"col_heading level1 col6\" >Clothing</th>\n",
       "      <th id=\"T_b9a80_level1_col7\" class=\"col_heading level1 col7\" >Electronics</th>\n",
       "      <th id=\"T_b9a80_level1_col8\" class=\"col_heading level1 col8\" >Furniture</th>\n",
       "      <th id=\"T_b9a80_level1_col9\" class=\"col_heading level1 col9\" >Clothing</th>\n",
       "      <th id=\"T_b9a80_level1_col10\" class=\"col_heading level1 col10\" >Electronics</th>\n",
       "      <th id=\"T_b9a80_level1_col11\" class=\"col_heading level1 col11\" >Furniture</th>\n",
       "    </tr>\n",
       "    <tr>\n",
       "      <th class=\"index_name level0\" >Region</th>\n",
       "      <th class=\"blank col0\" >&nbsp;</th>\n",
       "      <th class=\"blank col1\" >&nbsp;</th>\n",
       "      <th class=\"blank col2\" >&nbsp;</th>\n",
       "      <th class=\"blank col3\" >&nbsp;</th>\n",
       "      <th class=\"blank col4\" >&nbsp;</th>\n",
       "      <th class=\"blank col5\" >&nbsp;</th>\n",
       "      <th class=\"blank col6\" >&nbsp;</th>\n",
       "      <th class=\"blank col7\" >&nbsp;</th>\n",
       "      <th class=\"blank col8\" >&nbsp;</th>\n",
       "      <th class=\"blank col9\" >&nbsp;</th>\n",
       "      <th class=\"blank col10\" >&nbsp;</th>\n",
       "      <th class=\"blank col11\" >&nbsp;</th>\n",
       "    </tr>\n",
       "  </thead>\n",
       "  <tbody>\n",
       "    <tr>\n",
       "      <th id=\"T_b9a80_level0_row0\" class=\"row_heading level0 row0\" >East</th>\n",
       "      <td id=\"T_b9a80_row0_col0\" class=\"data row0 col0\" >78095.444953</td>\n",
       "      <td id=\"T_b9a80_row0_col1\" class=\"data row0 col1\" >59796.092464</td>\n",
       "      <td id=\"T_b9a80_row0_col2\" class=\"data row0 col2\" >71516.506133</td>\n",
       "      <td id=\"T_b9a80_row0_col3\" class=\"data row0 col3\" >805.643678</td>\n",
       "      <td id=\"T_b9a80_row0_col4\" class=\"data row0 col4\" >447.179590</td>\n",
       "      <td id=\"T_b9a80_row0_col5\" class=\"data row0 col5\" >732.539530</td>\n",
       "      <td id=\"T_b9a80_row0_col6\" class=\"data row0 col6\" >813995.526661</td>\n",
       "      <td id=\"T_b9a80_row0_col7\" class=\"data row0 col7\" >434630.943666</td>\n",
       "      <td id=\"T_b9a80_row0_col8\" class=\"data row0 col8\" >570033.406621</td>\n",
       "      <td id=\"T_b9a80_row0_col9\" class=\"data row0 col9\" >27133.184222</td>\n",
       "      <td id=\"T_b9a80_row0_col10\" class=\"data row0 col10\" >18896.997551</td>\n",
       "      <td id=\"T_b9a80_row0_col11\" class=\"data row0 col11\" >23751.391943</td>\n",
       "    </tr>\n",
       "    <tr>\n",
       "      <th id=\"T_b9a80_level0_row1\" class=\"row_heading level0 row1\" >North</th>\n",
       "      <td id=\"T_b9a80_row1_col0\" class=\"data row1 col0\" >66221.034428</td>\n",
       "      <td id=\"T_b9a80_row1_col1\" class=\"data row1 col1\" >90973.809879</td>\n",
       "      <td id=\"T_b9a80_row1_col2\" class=\"data row1 col2\" >75972.403284</td>\n",
       "      <td id=\"T_b9a80_row1_col3\" class=\"data row1 col3\" >620.588015</td>\n",
       "      <td id=\"T_b9a80_row1_col4\" class=\"data row1 col4\" >2175.213646</td>\n",
       "      <td id=\"T_b9a80_row1_col5\" class=\"data row1 col5\" >1241.450981</td>\n",
       "      <td id=\"T_b9a80_row1_col6\" class=\"data row1 col6\" >581395.333139</td>\n",
       "      <td id=\"T_b9a80_row1_col7\" class=\"data row1 col7\" >768848.482025</td>\n",
       "      <td id=\"T_b9a80_row1_col8\" class=\"data row1 col8\" >889960.133097</td>\n",
       "      <td id=\"T_b9a80_row1_col9\" class=\"data row1 col9\" >19379.844438</td>\n",
       "      <td id=\"T_b9a80_row1_col10\" class=\"data row1 col10\" >36611.832477</td>\n",
       "      <td id=\"T_b9a80_row1_col11\" class=\"data row1 col11\" >24721.114808</td>\n",
       "    </tr>\n",
       "    <tr>\n",
       "      <th id=\"T_b9a80_level0_row2\" class=\"row_heading level0 row2\" >South</th>\n",
       "      <td id=\"T_b9a80_row2_col0\" class=\"data row2 col0\" >83936.742905</td>\n",
       "      <td id=\"T_b9a80_row2_col1\" class=\"data row2 col1\" >85276.588256</td>\n",
       "      <td id=\"T_b9a80_row2_col2\" class=\"data row2 col2\" >71941.436889</td>\n",
       "      <td id=\"T_b9a80_row2_col3\" class=\"data row2 col3\" >662.585107</td>\n",
       "      <td id=\"T_b9a80_row2_col4\" class=\"data row2 col4\" >362.282943</td>\n",
       "      <td id=\"T_b9a80_row2_col5\" class=\"data row2 col5\" >500.158314</td>\n",
       "      <td id=\"T_b9a80_row2_col6\" class=\"data row2 col6\" >597081.633043</td>\n",
       "      <td id=\"T_b9a80_row2_col7\" class=\"data row2 col7\" >896247.148113</td>\n",
       "      <td id=\"T_b9a80_row2_col8\" class=\"data row2 col8\" >707943.042001</td>\n",
       "      <td id=\"T_b9a80_row2_col9\" class=\"data row2 col9\" >22964.678194</td>\n",
       "      <td id=\"T_b9a80_row2_col10\" class=\"data row2 col10\" >27159.004488</td>\n",
       "      <td id=\"T_b9a80_row2_col11\" class=\"data row2 col11\" >27228.578538</td>\n",
       "    </tr>\n",
       "    <tr>\n",
       "      <th id=\"T_b9a80_level0_row3\" class=\"row_heading level0 row3\" >West</th>\n",
       "      <td id=\"T_b9a80_row3_col0\" class=\"data row3 col0\" >85903.978449</td>\n",
       "      <td id=\"T_b9a80_row3_col1\" class=\"data row3 col1\" >95922.209330</td>\n",
       "      <td id=\"T_b9a80_row3_col2\" class=\"data row3 col2\" >76526.666813</td>\n",
       "      <td id=\"T_b9a80_row3_col3\" class=\"data row3 col3\" >710.985409</td>\n",
       "      <td id=\"T_b9a80_row3_col4\" class=\"data row3 col4\" >53.650961</td>\n",
       "      <td id=\"T_b9a80_row3_col5\" class=\"data row3 col5\" >966.461910</td>\n",
       "      <td id=\"T_b9a80_row3_col6\" class=\"data row3 col6\" >714111.694497</td>\n",
       "      <td id=\"T_b9a80_row3_col7\" class=\"data row3 col7\" >1081009.506069</td>\n",
       "      <td id=\"T_b9a80_row3_col8\" class=\"data row3 col8\" >834573.437042</td>\n",
       "      <td id=\"T_b9a80_row3_col9\" class=\"data row3 col9\" >19836.435958</td>\n",
       "      <td id=\"T_b9a80_row3_col10\" class=\"data row3 col10\" >26366.085514</td>\n",
       "      <td id=\"T_b9a80_row3_col11\" class=\"data row3 col11\" >21399.318899</td>\n",
       "    </tr>\n",
       "  </tbody>\n",
       "</table>\n"
      ],
      "text/plain": [
       "<pandas.io.formats.style.Styler at 0x1e6e8329190>"
      ]
     },
     "execution_count": 95,
     "metadata": {},
     "output_type": "execute_result"
    }
   ],
   "source": [
    "(\n",
    "    sales_data_pivot\n",
    "        .style\n",
    "            .set_table_styles([headers, index_style])\n",
    "            .background_gradient(cmap='viridis',subset=sales_data_pivot.columns)\n",
    ")"
   ]
  },
  {
   "cell_type": "code",
   "execution_count": null,
   "id": "fe78e909-3bcf-4745-a72e-b70984048b17",
   "metadata": {},
   "outputs": [],
   "source": []
  },
  {
   "cell_type": "code",
   "execution_count": null,
   "id": "e4859256-464c-43ac-9ac6-c62aaec3d8cb",
   "metadata": {},
   "outputs": [],
   "source": []
  },
  {
   "cell_type": "markdown",
   "id": "e2484352-ee2c-42bd-a62f-3eccc9794403",
   "metadata": {},
   "source": [
    "# Predictive Analysis"
   ]
  },
  {
   "cell_type": "code",
   "execution_count": 99,
   "id": "01a8c753-ec3a-451e-8829-49aa197a5bef",
   "metadata": {},
   "outputs": [],
   "source": [
    "from sklearn import linear_model\n",
    "from sklearn.metrics import mean_squared_error, r2_score\n",
    "from sklearn.linear_model import LinearRegression\n",
    "from sklearn.model_selection import train_test_split\n"
   ]
  },
  {
   "cell_type": "code",
   "execution_count": 100,
   "id": "3212322a-6568-4109-9c50-759bc9b7c362",
   "metadata": {},
   "outputs": [
    {
     "data": {
      "text/plain": [
       "((110, 2), (110,))"
      ]
     },
     "execution_count": 100,
     "metadata": {},
     "output_type": "execute_result"
    }
   ],
   "source": [
    "train= sales_data.drop(['Total Sales','Product','Region','Day_of_week','month','Season','year'], axis =1)\n",
    "test = sales_data['Total Sales']\n",
    "\n",
    "#performing 80/20 data split\n",
    "X_train, X_test,y_train, y_test = train_test_split(train,test,test_size=0.3,random_state=1)\n",
    "\n",
    "#data dimension\n",
    "X_train.shape, y_train.shape\n",
    "\n",
    "X_test.shape, y_test.shape"
   ]
  },
  {
   "cell_type": "code",
   "execution_count": 102,
   "id": "81e2a280-5991-49a5-be12-3523343eb461",
   "metadata": {},
   "outputs": [
    {
     "name": "stdout",
     "output_type": "stream",
     "text": [
      "Coefficients: [506.8880799   51.11883959]\n",
      "Intercept: -25704.511449280777\n",
      "Mean Squared error(MSF) 65524735\n",
      "Coefficient of determination: 0.84\n"
     ]
    }
   ],
   "source": [
    "\n",
    "\n",
    "\n",
    "\n",
    "#Build linear regression\n",
    "regr = LinearRegression()\n",
    "regr.fit(X_train,y_train)\n",
    "\n",
    "\n",
    "pred = regr.predict(X_test)\n",
    "\n",
    "regr.score(X_test, y_test)\n",
    "\n",
    "print('Coefficients:', regr.coef_)\n",
    "print('Intercept:', regr.intercept_)\n",
    "print('Mean Squared error(MSF) %.f' % mean_squared_error\n",
    "(y_test, pred))\n",
    "print('Coefficient of determination: %.2f' % r2_score(y_test,pred))\n"
   ]
  },
  {
   "cell_type": "code",
   "execution_count": 103,
   "id": "187e5940-94b9-4c25-b61f-ad1d77d649a9",
   "metadata": {},
   "outputs": [
    {
     "data": {
      "text/plain": [
       "array([ -4578.71097087,  27907.19925929,  10097.04403619,  49826.86981925,\n",
       "        33794.64688755,  35691.58327695,   5509.54138668,  10221.6944064 ,\n",
       "        39333.90089223,  -7730.32532299,  28741.65132149,  31249.36555108,\n",
       "        25274.95971319,  10730.28247436,  47337.32055464,  19349.62994316,\n",
       "        -7016.24988168,   6075.20501045,  21161.69873906,  30119.98501512,\n",
       "        18787.07237452,  51524.25711107,  46076.90422942,  46662.91317434,\n",
       "        63597.23453674,   4374.22652708,  30706.19203555,  -8538.0948077 ,\n",
       "        64664.9573411 ,  33238.59405471,  26450.14823237,   9868.21745897,\n",
       "        -5486.32364758,  -3477.77408708,  24095.58694976,  20199.76997494,\n",
       "        19304.83524675,  27636.38093509,  36726.89543462,  40158.39194549,\n",
       "        15171.87532822,  35226.67529536,  55822.95119298,  -2830.10650919,\n",
       "         -651.20364388,  35071.04893075,  64545.04918772,   3804.33539751,\n",
       "         1181.95057212,  -7830.40951144,  12249.23847658,  34354.10822732,\n",
       "        30836.64351029,   9868.45686794,  26666.65686998,   6683.69105424,\n",
       "        -2922.72389798,  23892.65942676,  28194.4776549 ,  30963.54294276,\n",
       "        15051.16821536,  41895.40517067,  68576.70337036,  39722.54860804,\n",
       "        -5485.21640666,  38605.65708399,  49756.29770462,  34255.19690971,\n",
       "        28147.62082286,  18072.14272009,  23051.89580178,  35682.08810675,\n",
       "        33662.52825046,  44324.26925805,  38198.35363504,  18897.8588019 ,\n",
       "         1665.33007339,   2447.61465724, -15209.31367562,   4416.99441182,\n",
       "        55274.35290876,   9782.05270521,  31958.39859319,   7312.43708948,\n",
       "       -16324.0797892 ,  51857.95430004,  15677.09356904,   1527.02911903,\n",
       "        -7416.20878882,  25332.62952248,  32017.73228385,  50558.2522465 ,\n",
       "        27272.24583725, -16975.27106382,  14465.01480201,  19135.82908244,\n",
       "        10959.49474882,  28016.20474626,  47565.20743522,  -2769.98364046,\n",
       "        19433.74066618,  41692.74952569,  26902.32215897,  -6726.71708791,\n",
       "        10210.34557729,  -8783.44349977,  57249.98477279,  15412.14192396,\n",
       "        21446.67796171,  27433.08842041])"
      ]
     },
     "execution_count": 103,
     "metadata": {},
     "output_type": "execute_result"
    }
   ],
   "source": [
    "pred"
   ]
  },
  {
   "cell_type": "markdown",
   "id": "d530dea9-b375-4566-af65-9d3a85e6c49b",
   "metadata": {},
   "source": [
    "# SUMMARY OF ANALYSIS"
   ]
  },
  {
   "cell_type": "markdown",
   "id": "af7b8b80-2d19-4497-b022-cb11b4e5286c",
   "metadata": {},
   "source": [
    "1. From analysis we could tell that we have Saturday having the highest revenue generated.\n",
    "2. The weekend having the best sales generation,Saturday boosting with high revenue and Wednesday having less sales.\n",
    "3. Looking from analysis we have equal number of Units sold but Electronics having more Revenue generated, and Furniture having the least revenue          genearated\n",
    "4. For Quarterly revenue we have the Second Quarter having the highest revenue trend and Q4 having the least revenue generation.\n",
    "5. We have more sales during the summer than during the winter.\n",
    "6. Also from quantitative analysis and visualization we noticed the north has the highest Sales and Unit sold"
   ]
  },
  {
   "cell_type": "raw",
   "id": "12f6675c-cc4e-424e-8a3a-cbfdd1017e55",
   "metadata": {},
   "source": []
  },
  {
   "cell_type": "code",
   "execution_count": null,
   "id": "79afdb68-0215-444f-a703-d33cec0b1ad4",
   "metadata": {},
   "outputs": [],
   "source": [
    "\n",
    "\n",
    "\n"
   ]
  },
  {
   "cell_type": "code",
   "execution_count": null,
   "id": "3f284d8e-d08f-4066-9df3-c5b3ab38a0d3",
   "metadata": {},
   "outputs": [],
   "source": []
  },
  {
   "cell_type": "code",
   "execution_count": null,
   "id": "dfd4bb14-2d8d-4f09-aaa7-09cf3f50c44a",
   "metadata": {},
   "outputs": [],
   "source": []
  },
  {
   "cell_type": "code",
   "execution_count": null,
   "id": "45bcb0cb-b8fe-43df-b9aa-f1d0eecc87f6",
   "metadata": {},
   "outputs": [],
   "source": []
  },
  {
   "cell_type": "code",
   "execution_count": null,
   "id": "39c2f966-7067-437f-b946-3a95025626d7",
   "metadata": {},
   "outputs": [],
   "source": []
  },
  {
   "cell_type": "code",
   "execution_count": null,
   "id": "3a2367ab-0952-4722-893a-1c79e4e867c9",
   "metadata": {},
   "outputs": [],
   "source": []
  },
  {
   "cell_type": "code",
   "execution_count": null,
   "id": "4bfa7ac0-5f85-43e7-9f45-1a566345f010",
   "metadata": {},
   "outputs": [],
   "source": []
  },
  {
   "cell_type": "code",
   "execution_count": null,
   "id": "a310ec60-ac9b-44ab-b19f-ff69a5cb8105",
   "metadata": {},
   "outputs": [],
   "source": []
  },
  {
   "cell_type": "code",
   "execution_count": null,
   "id": "077cf32c-96e2-403f-bd45-03be279a0479",
   "metadata": {},
   "outputs": [],
   "source": []
  },
  {
   "cell_type": "code",
   "execution_count": null,
   "id": "9ff64646-ad4d-4c6a-bcfd-01589f09e6ad",
   "metadata": {},
   "outputs": [],
   "source": []
  }
 ],
 "metadata": {
  "kernelspec": {
   "display_name": "Python 3 (ipykernel)",
   "language": "python",
   "name": "python3"
  },
  "language_info": {
   "codemirror_mode": {
    "name": "ipython",
    "version": 3
   },
   "file_extension": ".py",
   "mimetype": "text/x-python",
   "name": "python",
   "nbconvert_exporter": "python",
   "pygments_lexer": "ipython3",
   "version": "3.12.7"
  }
 },
 "nbformat": 4,
 "nbformat_minor": 5
}
