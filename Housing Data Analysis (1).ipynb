{
 "cells": [
  {
   "cell_type": "code",
   "execution_count": 1,
   "id": "c81188be-71dd-49cf-bd1d-f4e8c8893004",
   "metadata": {},
   "outputs": [],
   "source": [
    "import pandas as pd\n",
    "import numpy as np\n",
    "import seaborn as sns\n",
    "import matplotlib.pyplot as plt \n",
    "import plotly.express as px\n",
    "#pio.renderers.default = 'browser'\n",
    "import plotly.io as pio \n",
    "import plotly.graph_objs as gobj\n",
    "from plotly.offline import download_plotlyjs,init_notebook_mode,plot,iplot"
   ]
  },
  {
   "cell_type": "code",
   "execution_count": 2,
   "id": "a71f0dd7-4836-4710-a9a8-550988ce0b25",
   "metadata": {},
   "outputs": [],
   "source": [
    "df = pd.read_csv(r'C:\\Users\\Admin\\Downloads\\Telegram Desktop\\brasil_1 (2).csv')\n",
    "df1 = pd.read_csv(r'C:\\Users\\Admin\\Downloads\\Telegram Desktop\\brasil_2.csv')"
   ]
  },
  {
   "cell_type": "code",
   "execution_count": 3,
   "id": "0b614ac2-1747-4514-9b5e-90e96fd33074",
   "metadata": {},
   "outputs": [
    {
     "data": {
      "text/html": [
       "<div>\n",
       "<style scoped>\n",
       "    .dataframe tbody tr th:only-of-type {\n",
       "        vertical-align: middle;\n",
       "    }\n",
       "\n",
       "    .dataframe tbody tr th {\n",
       "        vertical-align: top;\n",
       "    }\n",
       "\n",
       "    .dataframe thead th {\n",
       "        text-align: right;\n",
       "    }\n",
       "</style>\n",
       "<table border=\"1\" class=\"dataframe\">\n",
       "  <thead>\n",
       "    <tr style=\"text-align: right;\">\n",
       "      <th></th>\n",
       "      <th>property_type</th>\n",
       "      <th>place_with_parent_names</th>\n",
       "      <th>region</th>\n",
       "      <th>lat-lon</th>\n",
       "      <th>area_m2</th>\n",
       "      <th>price_usd</th>\n",
       "    </tr>\n",
       "  </thead>\n",
       "  <tbody>\n",
       "    <tr>\n",
       "      <th>0</th>\n",
       "      <td>apartment</td>\n",
       "      <td>|Brasil|Alagoas|Maceió|</td>\n",
       "      <td>Northeast</td>\n",
       "      <td>-9.6443051,-35.7088142</td>\n",
       "      <td>110.0</td>\n",
       "      <td>$187,230.85</td>\n",
       "    </tr>\n",
       "    <tr>\n",
       "      <th>1</th>\n",
       "      <td>apartment</td>\n",
       "      <td>|Brasil|Alagoas|Maceió|</td>\n",
       "      <td>Northeast</td>\n",
       "      <td>-9.6430934,-35.70484</td>\n",
       "      <td>65.0</td>\n",
       "      <td>$81,133.37</td>\n",
       "    </tr>\n",
       "    <tr>\n",
       "      <th>2</th>\n",
       "      <td>house</td>\n",
       "      <td>|Brasil|Alagoas|Maceió|</td>\n",
       "      <td>Northeast</td>\n",
       "      <td>-9.6227033,-35.7297953</td>\n",
       "      <td>211.0</td>\n",
       "      <td>$154,465.45</td>\n",
       "    </tr>\n",
       "    <tr>\n",
       "      <th>3</th>\n",
       "      <td>apartment</td>\n",
       "      <td>|Brasil|Alagoas|Maceió|</td>\n",
       "      <td>Northeast</td>\n",
       "      <td>-9.622837,-35.719556</td>\n",
       "      <td>99.0</td>\n",
       "      <td>$146,013.20</td>\n",
       "    </tr>\n",
       "    <tr>\n",
       "      <th>4</th>\n",
       "      <td>apartment</td>\n",
       "      <td>|Brasil|Alagoas|Maceió|</td>\n",
       "      <td>Northeast</td>\n",
       "      <td>-9.654955,-35.700227</td>\n",
       "      <td>55.0</td>\n",
       "      <td>$101,416.71</td>\n",
       "    </tr>\n",
       "  </tbody>\n",
       "</table>\n",
       "</div>"
      ],
      "text/plain": [
       "  property_type  place_with_parent_names     region                 lat-lon  \\\n",
       "0     apartment  |Brasil|Alagoas|Maceió|  Northeast  -9.6443051,-35.7088142   \n",
       "1     apartment  |Brasil|Alagoas|Maceió|  Northeast    -9.6430934,-35.70484   \n",
       "2         house  |Brasil|Alagoas|Maceió|  Northeast  -9.6227033,-35.7297953   \n",
       "3     apartment  |Brasil|Alagoas|Maceió|  Northeast    -9.622837,-35.719556   \n",
       "4     apartment  |Brasil|Alagoas|Maceió|  Northeast    -9.654955,-35.700227   \n",
       "\n",
       "   area_m2    price_usd  \n",
       "0    110.0  $187,230.85  \n",
       "1     65.0   $81,133.37  \n",
       "2    211.0  $154,465.45  \n",
       "3     99.0  $146,013.20  \n",
       "4     55.0  $101,416.71  "
      ]
     },
     "execution_count": 3,
     "metadata": {},
     "output_type": "execute_result"
    }
   ],
   "source": [
    "df.head()"
   ]
  },
  {
   "cell_type": "code",
   "execution_count": 4,
   "id": "b659f290-4ebd-40c3-9500-2c3cdeeaf9fe",
   "metadata": {},
   "outputs": [
    {
     "data": {
      "text/html": [
       "<div>\n",
       "<style scoped>\n",
       "    .dataframe tbody tr th:only-of-type {\n",
       "        vertical-align: middle;\n",
       "    }\n",
       "\n",
       "    .dataframe tbody tr th {\n",
       "        vertical-align: top;\n",
       "    }\n",
       "\n",
       "    .dataframe thead th {\n",
       "        text-align: right;\n",
       "    }\n",
       "</style>\n",
       "<table border=\"1\" class=\"dataframe\">\n",
       "  <thead>\n",
       "    <tr style=\"text-align: right;\">\n",
       "      <th></th>\n",
       "      <th>property_type</th>\n",
       "      <th>state</th>\n",
       "      <th>region</th>\n",
       "      <th>lat</th>\n",
       "      <th>lon</th>\n",
       "      <th>area_m2</th>\n",
       "      <th>price_brl</th>\n",
       "    </tr>\n",
       "  </thead>\n",
       "  <tbody>\n",
       "    <tr>\n",
       "      <th>0</th>\n",
       "      <td>apartment</td>\n",
       "      <td>Pernambuco</td>\n",
       "      <td>Northeast</td>\n",
       "      <td>-8.134204</td>\n",
       "      <td>-34.906326</td>\n",
       "      <td>72.0</td>\n",
       "      <td>414222.98</td>\n",
       "    </tr>\n",
       "    <tr>\n",
       "      <th>1</th>\n",
       "      <td>apartment</td>\n",
       "      <td>Pernambuco</td>\n",
       "      <td>Northeast</td>\n",
       "      <td>-8.126664</td>\n",
       "      <td>-34.903924</td>\n",
       "      <td>136.0</td>\n",
       "      <td>848408.53</td>\n",
       "    </tr>\n",
       "    <tr>\n",
       "      <th>2</th>\n",
       "      <td>apartment</td>\n",
       "      <td>Pernambuco</td>\n",
       "      <td>Northeast</td>\n",
       "      <td>-8.125550</td>\n",
       "      <td>-34.907601</td>\n",
       "      <td>75.0</td>\n",
       "      <td>299438.28</td>\n",
       "    </tr>\n",
       "    <tr>\n",
       "      <th>3</th>\n",
       "      <td>apartment</td>\n",
       "      <td>Pernambuco</td>\n",
       "      <td>Northeast</td>\n",
       "      <td>-8.120249</td>\n",
       "      <td>-34.895920</td>\n",
       "      <td>187.0</td>\n",
       "      <td>848408.53</td>\n",
       "    </tr>\n",
       "    <tr>\n",
       "      <th>4</th>\n",
       "      <td>apartment</td>\n",
       "      <td>Pernambuco</td>\n",
       "      <td>Northeast</td>\n",
       "      <td>-8.142666</td>\n",
       "      <td>-34.906906</td>\n",
       "      <td>80.0</td>\n",
       "      <td>464129.36</td>\n",
       "    </tr>\n",
       "  </tbody>\n",
       "</table>\n",
       "</div>"
      ],
      "text/plain": [
       "  property_type       state     region       lat        lon  area_m2  \\\n",
       "0     apartment  Pernambuco  Northeast -8.134204 -34.906326     72.0   \n",
       "1     apartment  Pernambuco  Northeast -8.126664 -34.903924    136.0   \n",
       "2     apartment  Pernambuco  Northeast -8.125550 -34.907601     75.0   \n",
       "3     apartment  Pernambuco  Northeast -8.120249 -34.895920    187.0   \n",
       "4     apartment  Pernambuco  Northeast -8.142666 -34.906906     80.0   \n",
       "\n",
       "   price_brl  \n",
       "0  414222.98  \n",
       "1  848408.53  \n",
       "2  299438.28  \n",
       "3  848408.53  \n",
       "4  464129.36  "
      ]
     },
     "execution_count": 4,
     "metadata": {},
     "output_type": "execute_result"
    }
   ],
   "source": [
    "df1.head()"
   ]
  },
  {
   "cell_type": "code",
   "execution_count": 5,
   "id": "7151c3d8-0a0a-415c-9f79-add521bd482c",
   "metadata": {
    "scrolled": true
   },
   "outputs": [
    {
     "data": {
      "text/plain": [
       "place_with_parent_names\n",
       "|Brasil|Paraná|Londrina|                                  813\n",
       "|Brasil|Minas Gerais|Belo Horizonte|                      430\n",
       "|Brasil|Minas Gerais|Belo Horizonte|Buritis|              405\n",
       "|Brasil|Bahia|Salvador|Pituba|                            315\n",
       "|Brasil|Bahia|Salvador|                                   314\n",
       "                                                         ... \n",
       "|Brasil|Espírito Santo|Guarapari|Santa Mônica|              1\n",
       "|Brasil|Espírito Santo|Guarapari|Enseada Azul|              1\n",
       "|Brasil|Espírito Santo|Vila Velha|Barra do Jucu|            1\n",
       "|Brasil|Espírito Santo|Vila Velha|Jockey de Itaparica|      1\n",
       "|Brasil|Pernambuco|Recife|Boa Vista|                        1\n",
       "Name: count, Length: 565, dtype: int64"
      ]
     },
     "execution_count": 5,
     "metadata": {},
     "output_type": "execute_result"
    }
   ],
   "source": [
    "df.place_with_parent_names.value_counts()\n",
    "\n"
   ]
  },
  {
   "cell_type": "code",
   "execution_count": 6,
   "id": "23cd1500-c662-444b-af90-687dfee8821a",
   "metadata": {},
   "outputs": [
    {
     "data": {
      "text/plain": [
       "state\n",
       "Rio Grande do Sul      3000\n",
       "Rio de Janeiro         3000\n",
       "Santa Catarina         3000\n",
       "São Paulo              3000\n",
       "Pernambuco              372\n",
       "Rio Grande do Norte     342\n",
       "Sergipe                  83\n",
       "Piauí                    29\n",
       "Rondônia                  5\n",
       "Tocantins                 2\n",
       "Name: count, dtype: int64"
      ]
     },
     "execution_count": 6,
     "metadata": {},
     "output_type": "execute_result"
    }
   ],
   "source": [
    "df1.state.value_counts()"
   ]
  },
  {
   "cell_type": "code",
   "execution_count": 7,
   "id": "ec657b00-fa04-4286-ad8a-e8bd74119026",
   "metadata": {},
   "outputs": [
    {
     "data": {
      "text/plain": [
       "property_type                 0\n",
       "place_with_parent_names       0\n",
       "region                        0\n",
       "lat-lon                    1283\n",
       "area_m2                       0\n",
       "price_usd                     0\n",
       "dtype: int64"
      ]
     },
     "execution_count": 7,
     "metadata": {},
     "output_type": "execute_result"
    }
   ],
   "source": [
    "df.isnull().sum()"
   ]
  },
  {
   "cell_type": "code",
   "execution_count": 8,
   "id": "1ac330ad-6400-408a-858f-fc45fc1aabb8",
   "metadata": {},
   "outputs": [
    {
     "data": {
      "text/plain": [
       "(12834, 6)"
      ]
     },
     "execution_count": 8,
     "metadata": {},
     "output_type": "execute_result"
    }
   ],
   "source": [
    "df.shape"
   ]
  },
  {
   "cell_type": "code",
   "execution_count": 9,
   "id": "4545128f-3c45-4c4e-93af-7f713abdaba5",
   "metadata": {},
   "outputs": [
    {
     "data": {
      "text/plain": [
       "property_type       0\n",
       "state               0\n",
       "region              0\n",
       "lat                 0\n",
       "lon                 0\n",
       "area_m2          1540\n",
       "price_brl           0\n",
       "dtype: int64"
      ]
     },
     "execution_count": 9,
     "metadata": {},
     "output_type": "execute_result"
    }
   ],
   "source": [
    "df1.isnull().sum()"
   ]
  },
  {
   "cell_type": "code",
   "execution_count": 10,
   "id": "5bdb7708-5048-4a2c-a2d7-cadaa15c3f59",
   "metadata": {},
   "outputs": [],
   "source": [
    "df.drop('lat-lon',inplace= True,axis=1)"
   ]
  },
  {
   "cell_type": "code",
   "execution_count": 11,
   "id": "7a28b915-39a3-4f40-baa6-7eae0721bba8",
   "metadata": {},
   "outputs": [
    {
     "data": {
      "text/plain": [
       "Index(['property_type', 'place_with_parent_names', 'region', 'area_m2',\n",
       "       'price_usd'],\n",
       "      dtype='object')"
      ]
     },
     "execution_count": 11,
     "metadata": {},
     "output_type": "execute_result"
    }
   ],
   "source": [
    "df.columns"
   ]
  },
  {
   "cell_type": "code",
   "execution_count": 12,
   "id": "862ff7e5-ca90-417d-ada5-f8b0fb58032e",
   "metadata": {},
   "outputs": [
    {
     "data": {
      "text/plain": [
       "property_type              0\n",
       "place_with_parent_names    0\n",
       "region                     0\n",
       "area_m2                    0\n",
       "price_usd                  0\n",
       "dtype: int64"
      ]
     },
     "execution_count": 12,
     "metadata": {},
     "output_type": "execute_result"
    }
   ],
   "source": [
    "df.isnull().sum()"
   ]
  },
  {
   "cell_type": "code",
   "execution_count": 13,
   "id": "0b1a9278-a972-4fcf-9cb9-1f10e04781b4",
   "metadata": {},
   "outputs": [
    {
     "data": {
      "text/html": [
       "<div>\n",
       "<style scoped>\n",
       "    .dataframe tbody tr th:only-of-type {\n",
       "        vertical-align: middle;\n",
       "    }\n",
       "\n",
       "    .dataframe tbody tr th {\n",
       "        vertical-align: top;\n",
       "    }\n",
       "\n",
       "    .dataframe thead th {\n",
       "        text-align: right;\n",
       "    }\n",
       "</style>\n",
       "<table border=\"1\" class=\"dataframe\">\n",
       "  <thead>\n",
       "    <tr style=\"text-align: right;\">\n",
       "      <th></th>\n",
       "      <th>property_type</th>\n",
       "      <th>place_with_parent_names</th>\n",
       "      <th>region</th>\n",
       "      <th>area_m2</th>\n",
       "      <th>price_usd</th>\n",
       "    </tr>\n",
       "  </thead>\n",
       "  <tbody>\n",
       "    <tr>\n",
       "      <th>0</th>\n",
       "      <td>apartment</td>\n",
       "      <td>|Brasil|Alagoas|Maceió|</td>\n",
       "      <td>Northeast</td>\n",
       "      <td>110.0</td>\n",
       "      <td>$187,230.85</td>\n",
       "    </tr>\n",
       "    <tr>\n",
       "      <th>1</th>\n",
       "      <td>apartment</td>\n",
       "      <td>|Brasil|Alagoas|Maceió|</td>\n",
       "      <td>Northeast</td>\n",
       "      <td>65.0</td>\n",
       "      <td>$81,133.37</td>\n",
       "    </tr>\n",
       "    <tr>\n",
       "      <th>2</th>\n",
       "      <td>house</td>\n",
       "      <td>|Brasil|Alagoas|Maceió|</td>\n",
       "      <td>Northeast</td>\n",
       "      <td>211.0</td>\n",
       "      <td>$154,465.45</td>\n",
       "    </tr>\n",
       "    <tr>\n",
       "      <th>3</th>\n",
       "      <td>apartment</td>\n",
       "      <td>|Brasil|Alagoas|Maceió|</td>\n",
       "      <td>Northeast</td>\n",
       "      <td>99.0</td>\n",
       "      <td>$146,013.20</td>\n",
       "    </tr>\n",
       "    <tr>\n",
       "      <th>4</th>\n",
       "      <td>apartment</td>\n",
       "      <td>|Brasil|Alagoas|Maceió|</td>\n",
       "      <td>Northeast</td>\n",
       "      <td>55.0</td>\n",
       "      <td>$101,416.71</td>\n",
       "    </tr>\n",
       "  </tbody>\n",
       "</table>\n",
       "</div>"
      ],
      "text/plain": [
       "  property_type  place_with_parent_names     region  area_m2    price_usd\n",
       "0     apartment  |Brasil|Alagoas|Maceió|  Northeast    110.0  $187,230.85\n",
       "1     apartment  |Brasil|Alagoas|Maceió|  Northeast     65.0   $81,133.37\n",
       "2         house  |Brasil|Alagoas|Maceió|  Northeast    211.0  $154,465.45\n",
       "3     apartment  |Brasil|Alagoas|Maceió|  Northeast     99.0  $146,013.20\n",
       "4     apartment  |Brasil|Alagoas|Maceió|  Northeast     55.0  $101,416.71"
      ]
     },
     "execution_count": 13,
     "metadata": {},
     "output_type": "execute_result"
    }
   ],
   "source": [
    "df.head()"
   ]
  },
  {
   "cell_type": "markdown",
   "id": "6b4a3f32-e5cf-420b-875a-d5a2956dc4ae",
   "metadata": {},
   "source": [
    "# Creating new columna from place_with_parent_names"
   ]
  },
  {
   "cell_type": "code",
   "execution_count": 14,
   "id": "44fbb574-0143-45e1-ae04-43f45351de41",
   "metadata": {},
   "outputs": [],
   "source": [
    "df[['Country','state','city','Street']] = df['place_with_parent_names'].str.strip('|').str.split('|', expand=True)"
   ]
  },
  {
   "cell_type": "code",
   "execution_count": 15,
   "id": "78b08a69-0ae4-4260-97c8-bcfe30a51512",
   "metadata": {},
   "outputs": [],
   "source": [
    "df.drop(['place_with_parent_names','Country','city','Street'], inplace=True,axis=1)"
   ]
  },
  {
   "cell_type": "code",
   "execution_count": 16,
   "id": "727b5227-4987-49fb-a1af-7c1ee18ef2ed",
   "metadata": {},
   "outputs": [
    {
     "data": {
      "text/html": [
       "<div>\n",
       "<style scoped>\n",
       "    .dataframe tbody tr th:only-of-type {\n",
       "        vertical-align: middle;\n",
       "    }\n",
       "\n",
       "    .dataframe tbody tr th {\n",
       "        vertical-align: top;\n",
       "    }\n",
       "\n",
       "    .dataframe thead th {\n",
       "        text-align: right;\n",
       "    }\n",
       "</style>\n",
       "<table border=\"1\" class=\"dataframe\">\n",
       "  <thead>\n",
       "    <tr style=\"text-align: right;\">\n",
       "      <th></th>\n",
       "      <th>property_type</th>\n",
       "      <th>region</th>\n",
       "      <th>area_m2</th>\n",
       "      <th>price_usd</th>\n",
       "      <th>state</th>\n",
       "    </tr>\n",
       "  </thead>\n",
       "  <tbody>\n",
       "    <tr>\n",
       "      <th>0</th>\n",
       "      <td>apartment</td>\n",
       "      <td>Northeast</td>\n",
       "      <td>110.0</td>\n",
       "      <td>$187,230.85</td>\n",
       "      <td>Alagoas</td>\n",
       "    </tr>\n",
       "    <tr>\n",
       "      <th>1</th>\n",
       "      <td>apartment</td>\n",
       "      <td>Northeast</td>\n",
       "      <td>65.0</td>\n",
       "      <td>$81,133.37</td>\n",
       "      <td>Alagoas</td>\n",
       "    </tr>\n",
       "    <tr>\n",
       "      <th>2</th>\n",
       "      <td>house</td>\n",
       "      <td>Northeast</td>\n",
       "      <td>211.0</td>\n",
       "      <td>$154,465.45</td>\n",
       "      <td>Alagoas</td>\n",
       "    </tr>\n",
       "    <tr>\n",
       "      <th>3</th>\n",
       "      <td>apartment</td>\n",
       "      <td>Northeast</td>\n",
       "      <td>99.0</td>\n",
       "      <td>$146,013.20</td>\n",
       "      <td>Alagoas</td>\n",
       "    </tr>\n",
       "    <tr>\n",
       "      <th>4</th>\n",
       "      <td>apartment</td>\n",
       "      <td>Northeast</td>\n",
       "      <td>55.0</td>\n",
       "      <td>$101,416.71</td>\n",
       "      <td>Alagoas</td>\n",
       "    </tr>\n",
       "  </tbody>\n",
       "</table>\n",
       "</div>"
      ],
      "text/plain": [
       "  property_type     region  area_m2    price_usd    state\n",
       "0     apartment  Northeast    110.0  $187,230.85  Alagoas\n",
       "1     apartment  Northeast     65.0   $81,133.37  Alagoas\n",
       "2         house  Northeast    211.0  $154,465.45  Alagoas\n",
       "3     apartment  Northeast     99.0  $146,013.20  Alagoas\n",
       "4     apartment  Northeast     55.0  $101,416.71  Alagoas"
      ]
     },
     "execution_count": 16,
     "metadata": {},
     "output_type": "execute_result"
    }
   ],
   "source": [
    "df.head()"
   ]
  },
  {
   "cell_type": "code",
   "execution_count": 17,
   "id": "a8678354-1192-4644-89a8-195a0337eea4",
   "metadata": {},
   "outputs": [],
   "source": [
    "df['price_usd'] = np.array(df['price_usd'])"
   ]
  },
  {
   "cell_type": "markdown",
   "id": "ba5c4bf8-0e57-440d-ab04-386337a53358",
   "metadata": {},
   "source": [
    "# Removing String Characters from Data"
   ]
  },
  {
   "cell_type": "code",
   "execution_count": 18,
   "id": "3dac42eb-db36-4950-a924-d1167de066fb",
   "metadata": {},
   "outputs": [],
   "source": [
    "#1USD = 6.19 reais\n",
    "df['price_usd'] = df['price_usd'].str.replace(r'[$,]','' ,regex=True)"
   ]
  },
  {
   "cell_type": "code",
   "execution_count": 19,
   "id": "493fad3d-a0b6-4867-8f98-07015d03531c",
   "metadata": {},
   "outputs": [
    {
     "data": {
      "text/plain": [
       "0        187230.85\n",
       "1         81133.37\n",
       "2        154465.45\n",
       "3        146013.20\n",
       "4        101416.71\n",
       "           ...    \n",
       "12829    174748.79\n",
       "12830    115459.02\n",
       "12831    137302.62\n",
       "12832    234038.56\n",
       "12833    168507.77\n",
       "Name: price_usd, Length: 12834, dtype: object"
      ]
     },
     "execution_count": 19,
     "metadata": {},
     "output_type": "execute_result"
    }
   ],
   "source": [
    "df['price_usd']"
   ]
  },
  {
   "cell_type": "code",
   "execution_count": 20,
   "id": "ff1674e9-e387-48aa-a950-e6b6b6677bd2",
   "metadata": {},
   "outputs": [],
   "source": [
    "df['price_usd'] =(df['price_usd']).astype(float)"
   ]
  },
  {
   "cell_type": "markdown",
   "id": "d0279e0d-0f2e-43a2-9967-40e30f6a2d46",
   "metadata": {},
   "source": [
    "# 1 US dollar to Brazilian reais"
   ]
  },
  {
   "cell_type": "code",
   "execution_count": 21,
   "id": "51c75f1a-6e74-4c30-b038-faf8d90cd292",
   "metadata": {},
   "outputs": [],
   "source": [
    "df['price_usd'] = (df['price_usd'] * 6.19)"
   ]
  },
  {
   "cell_type": "code",
   "execution_count": 22,
   "id": "ee74624c-cdc8-46df-a821-eefe483c8b8b",
   "metadata": {},
   "outputs": [
    {
     "data": {
      "text/plain": [
       "0        1.158959e+06\n",
       "1        5.022156e+05\n",
       "2        9.561411e+05\n",
       "3        9.038217e+05\n",
       "4        6.277694e+05\n",
       "             ...     \n",
       "12829    1.081695e+06\n",
       "12830    7.146913e+05\n",
       "12831    8.499032e+05\n",
       "12832    1.448699e+06\n",
       "12833    1.043063e+06\n",
       "Name: price_usd, Length: 12834, dtype: float64"
      ]
     },
     "execution_count": 22,
     "metadata": {},
     "output_type": "execute_result"
    }
   ],
   "source": [
    "df['price_usd']"
   ]
  },
  {
   "cell_type": "markdown",
   "id": "6b720900-414a-49ce-b409-12edcbaf3c2a",
   "metadata": {},
   "source": [
    "# Checking for Duplicates"
   ]
  },
  {
   "cell_type": "code",
   "execution_count": 23,
   "id": "1c28ecb8-8e8c-4f02-a271-c96f41266963",
   "metadata": {},
   "outputs": [
    {
     "data": {
      "text/plain": [
       "2183"
      ]
     },
     "execution_count": 23,
     "metadata": {},
     "output_type": "execute_result"
    }
   ],
   "source": [
    "df.duplicated().sum()"
   ]
  },
  {
   "cell_type": "code",
   "execution_count": 24,
   "id": "7115873d-8f30-4776-ac5b-bbf51a5347f9",
   "metadata": {},
   "outputs": [],
   "source": [
    "df.drop_duplicates(inplace=True)"
   ]
  },
  {
   "cell_type": "code",
   "execution_count": 25,
   "id": "2950ee6a-65b0-4d0b-b4a5-58823f707373",
   "metadata": {},
   "outputs": [
    {
     "data": {
      "text/plain": [
       "307"
      ]
     },
     "execution_count": 25,
     "metadata": {},
     "output_type": "execute_result"
    }
   ],
   "source": [
    "df1.duplicated().sum()"
   ]
  },
  {
   "cell_type": "code",
   "execution_count": 26,
   "id": "f13f633c-ed85-4575-85a6-07ae39beee95",
   "metadata": {},
   "outputs": [],
   "source": [
    "df1.drop_duplicates(inplace=True)"
   ]
  },
  {
   "cell_type": "code",
   "execution_count": 27,
   "id": "b9532be7-840b-4ac9-bb11-4d78c9bcd87b",
   "metadata": {},
   "outputs": [
    {
     "data": {
      "text/html": [
       "<div>\n",
       "<style scoped>\n",
       "    .dataframe tbody tr th:only-of-type {\n",
       "        vertical-align: middle;\n",
       "    }\n",
       "\n",
       "    .dataframe tbody tr th {\n",
       "        vertical-align: top;\n",
       "    }\n",
       "\n",
       "    .dataframe thead th {\n",
       "        text-align: right;\n",
       "    }\n",
       "</style>\n",
       "<table border=\"1\" class=\"dataframe\">\n",
       "  <thead>\n",
       "    <tr style=\"text-align: right;\">\n",
       "      <th></th>\n",
       "      <th>area_m2</th>\n",
       "      <th>price_usd</th>\n",
       "    </tr>\n",
       "  </thead>\n",
       "  <tbody>\n",
       "    <tr>\n",
       "      <th>count</th>\n",
       "      <td>10651.000000</td>\n",
       "      <td>1.065100e+04</td>\n",
       "    </tr>\n",
       "    <tr>\n",
       "      <th>mean</th>\n",
       "      <td>118.260727</td>\n",
       "      <td>1.139675e+06</td>\n",
       "    </tr>\n",
       "    <tr>\n",
       "      <th>std</th>\n",
       "      <td>49.009353</td>\n",
       "      <td>6.051789e+05</td>\n",
       "    </tr>\n",
       "    <tr>\n",
       "      <th>min</th>\n",
       "      <td>53.000000</td>\n",
       "      <td>4.635836e+05</td>\n",
       "    </tr>\n",
       "    <tr>\n",
       "      <th>25%</th>\n",
       "      <td>78.000000</td>\n",
       "      <td>6.760594e+05</td>\n",
       "    </tr>\n",
       "    <tr>\n",
       "      <th>50%</th>\n",
       "      <td>107.000000</td>\n",
       "      <td>9.619360e+05</td>\n",
       "    </tr>\n",
       "    <tr>\n",
       "      <th>75%</th>\n",
       "      <td>148.000000</td>\n",
       "      <td>1.426151e+06</td>\n",
       "    </tr>\n",
       "    <tr>\n",
       "      <th>max</th>\n",
       "      <td>252.000000</td>\n",
       "      <td>3.245085e+06</td>\n",
       "    </tr>\n",
       "  </tbody>\n",
       "</table>\n",
       "</div>"
      ],
      "text/plain": [
       "            area_m2     price_usd\n",
       "count  10651.000000  1.065100e+04\n",
       "mean     118.260727  1.139675e+06\n",
       "std       49.009353  6.051789e+05\n",
       "min       53.000000  4.635836e+05\n",
       "25%       78.000000  6.760594e+05\n",
       "50%      107.000000  9.619360e+05\n",
       "75%      148.000000  1.426151e+06\n",
       "max      252.000000  3.245085e+06"
      ]
     },
     "execution_count": 27,
     "metadata": {},
     "output_type": "execute_result"
    }
   ],
   "source": [
    "df.describe()"
   ]
  },
  {
   "cell_type": "code",
   "execution_count": 28,
   "id": "5de3fc1e-d41f-4e22-97c2-129bf25d4ab1",
   "metadata": {},
   "outputs": [],
   "source": [
    " df1.drop(['lat','lon'],axis=1,inplace=True)"
   ]
  },
  {
   "cell_type": "code",
   "execution_count": 29,
   "id": "88f58417-558f-4175-a6b7-71268a24b08e",
   "metadata": {},
   "outputs": [
    {
     "data": {
      "text/plain": [
       "Index(['property_type', 'state', 'region', 'area_m2', 'price_brl'], dtype='object')"
      ]
     },
     "execution_count": 29,
     "metadata": {},
     "output_type": "execute_result"
    }
   ],
   "source": [
    "df1.columns"
   ]
  },
  {
   "cell_type": "code",
   "execution_count": 30,
   "id": "8658c92a-acbd-4278-a7e0-6a3809db9d1d",
   "metadata": {},
   "outputs": [],
   "source": [
    "df= df.rename(columns={'price_usd':'price_brl'})"
   ]
  },
  {
   "cell_type": "code",
   "execution_count": 31,
   "id": "674f7e3e-c06a-4983-93dd-67b79c3496d4",
   "metadata": {},
   "outputs": [
    {
     "data": {
      "text/plain": [
       "Index(['property_type', 'region', 'area_m2', 'price_brl', 'state'], dtype='object')"
      ]
     },
     "execution_count": 31,
     "metadata": {},
     "output_type": "execute_result"
    }
   ],
   "source": [
    "df.columns"
   ]
  },
  {
   "cell_type": "code",
   "execution_count": 32,
   "id": "eac00e3a-93bc-4060-b575-38f33b750622",
   "metadata": {},
   "outputs": [],
   "source": [
    "newdf= pd.concat([df,df1])"
   ]
  },
  {
   "cell_type": "code",
   "execution_count": 33,
   "id": "67cf4bcc-8a11-47a7-a030-5aafe6b03e08",
   "metadata": {},
   "outputs": [
    {
     "data": {
      "text/html": [
       "<div>\n",
       "<style scoped>\n",
       "    .dataframe tbody tr th:only-of-type {\n",
       "        vertical-align: middle;\n",
       "    }\n",
       "\n",
       "    .dataframe tbody tr th {\n",
       "        vertical-align: top;\n",
       "    }\n",
       "\n",
       "    .dataframe thead th {\n",
       "        text-align: right;\n",
       "    }\n",
       "</style>\n",
       "<table border=\"1\" class=\"dataframe\">\n",
       "  <thead>\n",
       "    <tr style=\"text-align: right;\">\n",
       "      <th></th>\n",
       "      <th>property_type</th>\n",
       "      <th>region</th>\n",
       "      <th>area_m2</th>\n",
       "      <th>price_brl</th>\n",
       "      <th>state</th>\n",
       "    </tr>\n",
       "  </thead>\n",
       "  <tbody>\n",
       "    <tr>\n",
       "      <th>0</th>\n",
       "      <td>apartment</td>\n",
       "      <td>Northeast</td>\n",
       "      <td>110.0</td>\n",
       "      <td>1.158959e+06</td>\n",
       "      <td>Alagoas</td>\n",
       "    </tr>\n",
       "    <tr>\n",
       "      <th>1</th>\n",
       "      <td>apartment</td>\n",
       "      <td>Northeast</td>\n",
       "      <td>65.0</td>\n",
       "      <td>5.022156e+05</td>\n",
       "      <td>Alagoas</td>\n",
       "    </tr>\n",
       "    <tr>\n",
       "      <th>2</th>\n",
       "      <td>house</td>\n",
       "      <td>Northeast</td>\n",
       "      <td>211.0</td>\n",
       "      <td>9.561411e+05</td>\n",
       "      <td>Alagoas</td>\n",
       "    </tr>\n",
       "    <tr>\n",
       "      <th>3</th>\n",
       "      <td>apartment</td>\n",
       "      <td>Northeast</td>\n",
       "      <td>99.0</td>\n",
       "      <td>9.038217e+05</td>\n",
       "      <td>Alagoas</td>\n",
       "    </tr>\n",
       "    <tr>\n",
       "      <th>4</th>\n",
       "      <td>apartment</td>\n",
       "      <td>Northeast</td>\n",
       "      <td>55.0</td>\n",
       "      <td>6.277694e+05</td>\n",
       "      <td>Alagoas</td>\n",
       "    </tr>\n",
       "    <tr>\n",
       "      <th>...</th>\n",
       "      <td>...</td>\n",
       "      <td>...</td>\n",
       "      <td>...</td>\n",
       "      <td>...</td>\n",
       "      <td>...</td>\n",
       "    </tr>\n",
       "    <tr>\n",
       "      <th>12828</th>\n",
       "      <td>house</td>\n",
       "      <td>Southeast</td>\n",
       "      <td>250.0</td>\n",
       "      <td>4.291949e+05</td>\n",
       "      <td>São Paulo</td>\n",
       "    </tr>\n",
       "    <tr>\n",
       "      <th>12829</th>\n",
       "      <td>apartment</td>\n",
       "      <td>Southeast</td>\n",
       "      <td>55.0</td>\n",
       "      <td>2.523988e+05</td>\n",
       "      <td>São Paulo</td>\n",
       "    </tr>\n",
       "    <tr>\n",
       "      <th>12830</th>\n",
       "      <td>apartment</td>\n",
       "      <td>Southeast</td>\n",
       "      <td>57.0</td>\n",
       "      <td>3.194008e+05</td>\n",
       "      <td>São Paulo</td>\n",
       "    </tr>\n",
       "    <tr>\n",
       "      <th>12831</th>\n",
       "      <td>house</td>\n",
       "      <td>North</td>\n",
       "      <td>NaN</td>\n",
       "      <td>5.290077e+05</td>\n",
       "      <td>Tocantins</td>\n",
       "    </tr>\n",
       "    <tr>\n",
       "      <th>12832</th>\n",
       "      <td>apartment</td>\n",
       "      <td>North</td>\n",
       "      <td>70.0</td>\n",
       "      <td>2.894570e+05</td>\n",
       "      <td>Tocantins</td>\n",
       "    </tr>\n",
       "  </tbody>\n",
       "</table>\n",
       "<p>23177 rows × 5 columns</p>\n",
       "</div>"
      ],
      "text/plain": [
       "      property_type     region  area_m2     price_brl      state\n",
       "0         apartment  Northeast    110.0  1.158959e+06    Alagoas\n",
       "1         apartment  Northeast     65.0  5.022156e+05    Alagoas\n",
       "2             house  Northeast    211.0  9.561411e+05    Alagoas\n",
       "3         apartment  Northeast     99.0  9.038217e+05    Alagoas\n",
       "4         apartment  Northeast     55.0  6.277694e+05    Alagoas\n",
       "...             ...        ...      ...           ...        ...\n",
       "12828         house  Southeast    250.0  4.291949e+05  São Paulo\n",
       "12829     apartment  Southeast     55.0  2.523988e+05  São Paulo\n",
       "12830     apartment  Southeast     57.0  3.194008e+05  São Paulo\n",
       "12831         house      North      NaN  5.290077e+05  Tocantins\n",
       "12832     apartment      North     70.0  2.894570e+05  Tocantins\n",
       "\n",
       "[23177 rows x 5 columns]"
      ]
     },
     "execution_count": 33,
     "metadata": {},
     "output_type": "execute_result"
    }
   ],
   "source": [
    "newdf"
   ]
  },
  {
   "cell_type": "markdown",
   "id": "841505ac-35ca-4104-bc35-cb7a68f119a9",
   "metadata": {},
   "source": [
    "# Checking for null values "
   ]
  },
  {
   "cell_type": "code",
   "execution_count": 34,
   "id": "551e7dea-5048-41e0-8f69-2ab35271d19a",
   "metadata": {},
   "outputs": [
    {
     "data": {
      "text/plain": [
       "property_type       0\n",
       "region              0\n",
       "area_m2          1478\n",
       "price_brl           0\n",
       "state               0\n",
       "dtype: int64"
      ]
     },
     "execution_count": 34,
     "metadata": {},
     "output_type": "execute_result"
    }
   ],
   "source": [
    "newdf.isnull().sum()"
   ]
  },
  {
   "cell_type": "code",
   "execution_count": 35,
   "id": "d31e8f2f-096a-4449-9f33-ae4f9c57b38f",
   "metadata": {},
   "outputs": [
    {
     "data": {
      "text/plain": [
       "104.0"
      ]
     },
     "execution_count": 35,
     "metadata": {},
     "output_type": "execute_result"
    }
   ],
   "source": [
    "newdf['area_m2'].median()"
   ]
  },
  {
   "cell_type": "markdown",
   "id": "5bc63ee7-daf2-40c4-8c56-76d75b920a3f",
   "metadata": {},
   "source": [
    "Filling null values with median"
   ]
  },
  {
   "cell_type": "code",
   "execution_count": 36,
   "id": "16655a44-d54c-419f-881a-10eebe61f625",
   "metadata": {},
   "outputs": [
    {
     "name": "stderr",
     "output_type": "stream",
     "text": [
      "C:\\Users\\Admin\\AppData\\Local\\Temp\\ipykernel_20008\\3412615638.py:1: FutureWarning:\n",
      "\n",
      "A value is trying to be set on a copy of a DataFrame or Series through chained assignment using an inplace method.\n",
      "The behavior will change in pandas 3.0. This inplace method will never work because the intermediate object on which we are setting values always behaves as a copy.\n",
      "\n",
      "For example, when doing 'df[col].method(value, inplace=True)', try using 'df.method({col: value}, inplace=True)' or df[col] = df[col].method(value) instead, to perform the operation inplace on the original object.\n",
      "\n",
      "\n",
      "\n"
     ]
    }
   ],
   "source": [
    "newdf['area_m2'].fillna(105.0,inplace= True)"
   ]
  },
  {
   "cell_type": "code",
   "execution_count": 37,
   "id": "c4c1aa76-06a6-4344-b393-437c19b3043f",
   "metadata": {},
   "outputs": [
    {
     "data": {
      "text/plain": [
       "property_type    0\n",
       "region           0\n",
       "area_m2          0\n",
       "price_brl        0\n",
       "state            0\n",
       "dtype: int64"
      ]
     },
     "execution_count": 37,
     "metadata": {},
     "output_type": "execute_result"
    }
   ],
   "source": [
    "newdf.isnull().sum()"
   ]
  },
  {
   "cell_type": "markdown",
   "id": "32e8ab2f-f4c7-4176-97d5-63b1f1211fd2",
   "metadata": {},
   "source": [
    "Checking for duplicates and removing duplicates"
   ]
  },
  {
   "cell_type": "code",
   "execution_count": 38,
   "id": "30ea7fc5-b396-4b12-88f9-6d0ac0ce1f78",
   "metadata": {},
   "outputs": [
    {
     "data": {
      "text/plain": [
       "993"
      ]
     },
     "execution_count": 38,
     "metadata": {},
     "output_type": "execute_result"
    }
   ],
   "source": [
    "newdf.duplicated().sum()"
   ]
  },
  {
   "cell_type": "code",
   "execution_count": 39,
   "id": "dbe60a5b-e33a-4c66-ad0d-071d3e05b8d8",
   "metadata": {},
   "outputs": [],
   "source": [
    "newdf.drop_duplicates(inplace=True)"
   ]
  },
  {
   "cell_type": "code",
   "execution_count": 40,
   "id": "cf4d7331-866f-4eb6-bf8e-d72ccec412fc",
   "metadata": {},
   "outputs": [
    {
     "name": "stdout",
     "output_type": "stream",
     "text": [
      "<class 'pandas.core.frame.DataFrame'>\n",
      "Index: 22184 entries, 0 to 12832\n",
      "Data columns (total 5 columns):\n",
      " #   Column         Non-Null Count  Dtype  \n",
      "---  ------         --------------  -----  \n",
      " 0   property_type  22184 non-null  object \n",
      " 1   region         22184 non-null  object \n",
      " 2   area_m2        22184 non-null  float64\n",
      " 3   price_brl      22184 non-null  float64\n",
      " 4   state          22184 non-null  object \n",
      "dtypes: float64(2), object(3)\n",
      "memory usage: 1.0+ MB\n"
     ]
    }
   ],
   "source": [
    "newdf.info()"
   ]
  },
  {
   "cell_type": "code",
   "execution_count": 41,
   "id": "2d90d809-a473-496e-8551-c7ef0f7cbdfb",
   "metadata": {},
   "outputs": [
    {
     "data": {
      "text/plain": [
       "(22184, 5)"
      ]
     },
     "execution_count": 41,
     "metadata": {},
     "output_type": "execute_result"
    }
   ],
   "source": [
    "newdf.shape"
   ]
  },
  {
   "cell_type": "code",
   "execution_count": 42,
   "id": "5ca38974-0b84-4bd7-9270-af3d32cc06fe",
   "metadata": {},
   "outputs": [
    {
     "data": {
      "text/html": [
       "<div>\n",
       "<style scoped>\n",
       "    .dataframe tbody tr th:only-of-type {\n",
       "        vertical-align: middle;\n",
       "    }\n",
       "\n",
       "    .dataframe tbody tr th {\n",
       "        vertical-align: top;\n",
       "    }\n",
       "\n",
       "    .dataframe thead th {\n",
       "        text-align: right;\n",
       "    }\n",
       "</style>\n",
       "<table border=\"1\" class=\"dataframe\">\n",
       "  <thead>\n",
       "    <tr style=\"text-align: right;\">\n",
       "      <th></th>\n",
       "      <th>area_m2</th>\n",
       "      <th>price_brl</th>\n",
       "    </tr>\n",
       "  </thead>\n",
       "  <tbody>\n",
       "    <tr>\n",
       "      <th>count</th>\n",
       "      <td>22184.000000</td>\n",
       "      <td>2.218400e+04</td>\n",
       "    </tr>\n",
       "    <tr>\n",
       "      <th>mean</th>\n",
       "      <td>115.701001</td>\n",
       "      <td>8.929540e+05</td>\n",
       "    </tr>\n",
       "    <tr>\n",
       "      <th>std</th>\n",
       "      <td>47.229572</td>\n",
       "      <td>5.426885e+05</td>\n",
       "    </tr>\n",
       "    <tr>\n",
       "      <th>min</th>\n",
       "      <td>53.000000</td>\n",
       "      <td>2.395506e+05</td>\n",
       "    </tr>\n",
       "    <tr>\n",
       "      <th>25%</th>\n",
       "      <td>78.000000</td>\n",
       "      <td>5.079856e+05</td>\n",
       "    </tr>\n",
       "    <tr>\n",
       "      <th>50%</th>\n",
       "      <td>105.000000</td>\n",
       "      <td>7.441541e+05</td>\n",
       "    </tr>\n",
       "    <tr>\n",
       "      <th>75%</th>\n",
       "      <td>141.000000</td>\n",
       "      <td>1.147847e+06</td>\n",
       "    </tr>\n",
       "    <tr>\n",
       "      <th>max</th>\n",
       "      <td>252.000000</td>\n",
       "      <td>3.245085e+06</td>\n",
       "    </tr>\n",
       "  </tbody>\n",
       "</table>\n",
       "</div>"
      ],
      "text/plain": [
       "            area_m2     price_brl\n",
       "count  22184.000000  2.218400e+04\n",
       "mean     115.701001  8.929540e+05\n",
       "std       47.229572  5.426885e+05\n",
       "min       53.000000  2.395506e+05\n",
       "25%       78.000000  5.079856e+05\n",
       "50%      105.000000  7.441541e+05\n",
       "75%      141.000000  1.147847e+06\n",
       "max      252.000000  3.245085e+06"
      ]
     },
     "execution_count": 42,
     "metadata": {},
     "output_type": "execute_result"
    }
   ],
   "source": [
    "newdf.describe()"
   ]
  },
  {
   "cell_type": "markdown",
   "id": "4d942d5b-f598-4733-acdb-09d3de6b8ea1",
   "metadata": {},
   "source": [
    "# Exploratory Analysis\n",
    "Distribution of Variables"
   ]
  },
  {
   "cell_type": "code",
   "execution_count": 43,
   "id": "fea70b26-4b61-4804-a34e-e3f29006f691",
   "metadata": {},
   "outputs": [
    {
     "data": {
      "text/plain": [
       "Index(['property_type', 'region', 'area_m2', 'price_brl', 'state'], dtype='object')"
      ]
     },
     "execution_count": 43,
     "metadata": {},
     "output_type": "execute_result"
    }
   ],
   "source": [
    "newdf.columns"
   ]
  },
  {
   "cell_type": "code",
   "execution_count": 44,
   "id": "4d79127b-ed6c-4630-b1a8-e4c231366a98",
   "metadata": {},
   "outputs": [
    {
     "data": {
      "text/plain": [
       "property_type\n",
       "apartment    17674\n",
       "house         4510\n",
       "Name: count, dtype: int64"
      ]
     },
     "execution_count": 44,
     "metadata": {},
     "output_type": "execute_result"
    }
   ],
   "source": [
    "newdf.property_type.value_counts()"
   ]
  },
  {
   "cell_type": "code",
   "execution_count": 45,
   "id": "221ad5bb-a853-4353-b5b8-f0fe06730c9a",
   "metadata": {},
   "outputs": [
    {
     "data": {
      "image/png": "[encoded data removed]",
      "text/plain": [
       "<Figure size 640x480 with 1 Axes>"
      ]
     },
     "metadata": {},
     "output_type": "display_data"
    }
   ],
   "source": [
    "plt.hist(newdf['property_type'])\n",
    "plt.xticks(rotation= 70)\n",
    "plt.show()"
   ]
  },
  {
   "cell_type": "code",
   "execution_count": 46,
   "id": "073e8fc9-c661-4037-881a-3984bdbb80eb",
   "metadata": {},
   "outputs": [
    {
     "data": {
      "text/plain": [
       "region\n",
       "Southeast       8297\n",
       "South           7696\n",
       "Northeast       4492\n",
       "Central-West    1404\n",
       "North            295\n",
       "Name: count, dtype: int64"
      ]
     },
     "execution_count": 46,
     "metadata": {},
     "output_type": "execute_result"
    }
   ],
   "source": [
    "newdf.region.value_counts()"
   ]
  },
  {
   "cell_type": "code",
   "execution_count": 47,
   "id": "dec3ffe3-3692-41cd-a49a-74de558bb2a3",
   "metadata": {},
   "outputs": [
    {
     "data": {
      "image/png": "[encoded data removed]",
      "text/plain": [
       "<Figure size 640x480 with 1 Axes>"
      ]
     },
     "metadata": {},
     "output_type": "display_data"
    }
   ],
   "source": [
    "plt.hist(newdf['region'])\n",
    "plt.xticks(rotation= 70)\n",
    "plt.show()"
   ]
  },
  {
   "cell_type": "code",
   "execution_count": 48,
   "id": "b90cfe6b-0429-4f45-94e4-29108413dc57",
   "metadata": {},
   "outputs": [
    {
     "data": {
      "text/plain": [
       "state\n",
       "Rio Grande do Sul      2770\n",
       "Rio de Janeiro         2709\n",
       "São Paulo              2685\n",
       "Santa Catarina         2585\n",
       "Minas Gerais           2347\n",
       "Paraná                 2341\n",
       "Bahia                  1658\n",
       "Ceará                  1584\n",
       "Distrito Federal        742\n",
       "Espírito Santo          556\n",
       "Goiás                   554\n",
       "Pernambuco              448\n",
       "Rio Grande do Norte     317\n",
       "Pará                    283\n",
       "Paraíba                 244\n",
       "Maranhão                102\n",
       "Mato Grosso              91\n",
       "Sergipe                  83\n",
       "Piauí                    29\n",
       "Alagoas                  27\n",
       "Mato Grosso do Sul       17\n",
       "Rondônia                  5\n",
       "Amazonas                  4\n",
       "Tocantins                 2\n",
       "Amapá                     1\n",
       "Name: count, dtype: int64"
      ]
     },
     "execution_count": 48,
     "metadata": {},
     "output_type": "execute_result"
    }
   ],
   "source": [
    "newdf.state.value_counts()"
   ]
  },
  {
   "cell_type": "code",
   "execution_count": 49,
   "id": "02c3f846-bec7-4c90-959a-f9d8e68aba68",
   "metadata": {},
   "outputs": [
    {
     "data": {
      "image/png": "[encoded data removed]",
      "text/plain": [
       "<Figure size 640x480 with 1 Axes>"
      ]
     },
     "metadata": {},
     "output_type": "display_data"
    }
   ],
   "source": [
    "plt.hist(newdf['state'])\n",
    "plt.xticks(rotation= 70)\n",
    "plt.show()"
   ]
  },
  {
   "cell_type": "code",
   "execution_count": 50,
   "id": "bd5e6002-1bed-492d-a934-8a33fb779802",
   "metadata": {},
   "outputs": [
    {
     "data": {
      "image/png": "[encoded data removed]",
      "text/plain": [
       "<Figure size 640x480 with 1 Axes>"
      ]
     },
     "metadata": {},
     "output_type": "display_data"
    }
   ],
   "source": [
    "plt.hist(newdf['area_m2'])\n",
    "plt.xticks(rotation= 70)\n",
    "plt.show()"
   ]
  },
  {
   "cell_type": "code",
   "execution_count": 51,
   "id": "e5da9d42-0777-4360-986b-c11828ed1ba4",
   "metadata": {},
   "outputs": [
    {
     "data": {
      "image/png": "[encoded data removed]",
      "text/plain": [
       "<Figure size 640x480 with 1 Axes>"
      ]
     },
     "metadata": {},
     "output_type": "display_data"
    }
   ],
   "source": [
    "plt.hist(newdf['price_brl'])\n",
    "plt.xticks(rotation= 70)\n",
    "plt.show()"
   ]
  },
  {
   "cell_type": "markdown",
   "id": "75f15e34-c4db-4755-94e1-c6ae2bab68ea",
   "metadata": {},
   "source": [
    "# Data Visualization"
   ]
  },
  {
   "cell_type": "markdown",
   "id": "0e98da14-636c-40b4-ba8c-17aa3e4be822",
   "metadata": {},
   "source": [
    "Region Vs Price"
   ]
  },
  {
   "cell_type": "code",
   "execution_count": 56,
   "id": "6dd68a16-9e05-45f8-a33b-45cddf86bfee",
   "metadata": {},
   "outputs": [
    {
     "data": {
      "image/png": "[encoded data removed]",
      "text/plain": [
       "<Figure size 640x480 with 1 Axes>"
      ]
     },
     "metadata": {},
     "output_type": "display_data"
    }
   ],
   "source": [
    "region_price = newdf.groupby('region')['price_brl'].mean()\n",
    "plt.bar(region_price.index,region_price,color= 'r')\n",
    "plt.title('Region Vs Price')\n",
    "plt.grid()\n",
    "plt.show()"
   ]
  },
  {
   "cell_type": "markdown",
   "id": "305cb73d-de5b-4f79-a3e0-db72571b47df",
   "metadata": {},
   "source": [
    "We can tell from visualization that The CENTRAL-WEST region has the hisghest pricing for rent."
   ]
  },
  {
   "cell_type": "code",
   "execution_count": 58,
   "id": "3c38de16-761c-4b78-a7f6-7d20592450aa",
   "metadata": {},
   "outputs": [
    {
     "data": {
      "image/png": "[encoded data removed]",
      "text/plain": [
       "<Figure size 640x480 with 1 Axes>"
      ]
     },
     "metadata": {},
     "output_type": "display_data"
    }
   ],
   "source": [
    "state_price = newdf.groupby('state')['price_brl'].mean()\n",
    "plt.bar(state_price.index,state_price,color= 'y')\n",
    "plt.title('State Vs Price')\n",
    "plt.xticks(rotation= 70)\n",
    "plt.grid()\n",
    "plt.show()"
   ]
  },
  {
   "cell_type": "markdown",
   "id": "e094e30d-ba4e-4458-846c-e32eac5d6cac",
   "metadata": {},
   "source": [
    "From Visualization we can denote that Minas Gerais has the highest house pricing"
   ]
  },
  {
   "cell_type": "code",
   "execution_count": 59,
   "id": "715f1ae1-2150-4c88-9f23-7a8ef8987283",
   "metadata": {},
   "outputs": [
    {
     "data": {
      "image/png": "[encoded data removed]",
      "text/plain": [
       "<Figure size 640x480 with 2 Axes>"
      ]
     },
     "metadata": {},
     "output_type": "display_data"
    }
   ],
   "source": [
    "sns.heatmap(newdf[['area_m2','price_brl']].corr(),annot=True,cmap='Reds')\n",
    "plt.title('Corr Between Area & Price')\n",
    "plt.show()"
   ]
  },
  {
   "cell_type": "markdown",
   "id": "665d19bc-4030-4883-9df4-ddfc475d9465",
   "metadata": {},
   "source": [
    "There's no strong correlation between Property size on the prices of housing across states in Brasil."
   ]
  },
  {
   "cell_type": "code",
   "execution_count": 60,
   "id": "0f0d4892-c7e1-4415-aa30-3b8db11d7df4",
   "metadata": {},
   "outputs": [],
   "source": [
    "propety_price = newdf.groupby('property_type')['price_brl'].mean()"
   ]
  },
  {
   "cell_type": "code",
   "execution_count": 61,
   "id": "ca6d0c6a-cfc9-49d2-9d01-c1dcc35a1daf",
   "metadata": {},
   "outputs": [
    {
     "data": {
      "image/png": "[encoded data removed]",
      "text/plain": [
       "<Figure size 640x480 with 1 Axes>"
      ]
     },
     "metadata": {},
     "output_type": "display_data"
    }
   ],
   "source": [
    "plt.barh(propety_price.index,propety_price)\n",
    "plt.title('Property Type Vs Price')\n",
    "plt.show()"
   ]
  },
  {
   "cell_type": "code",
   "execution_count": 62,
   "id": "c2d5d755-c7a7-420a-b6b0-0d8924bd722c",
   "metadata": {},
   "outputs": [],
   "source": [
    "propety_area = newdf.groupby('property_type')['area_m2'].mean()"
   ]
  },
  {
   "cell_type": "code",
   "execution_count": 63,
   "id": "9834a876-012a-461a-9533-c998d789862f",
   "metadata": {},
   "outputs": [
    {
     "data": {
      "image/png": "[encoded data removed]",
      "text/plain": [
       "<Figure size 640x480 with 1 Axes>"
      ]
     },
     "metadata": {},
     "output_type": "display_data"
    }
   ],
   "source": [
    "plt.barh(propety_area.index,propety_area)\n",
    "plt.title('Property_type Vs Area')\n",
    "plt.show()"
   ]
  },
  {
   "cell_type": "code",
   "execution_count": 64,
   "id": "a0e0e91a-b6ab-4d4d-a258-d5b1894f841d",
   "metadata": {},
   "outputs": [
    {
     "data": {
      "image/png": "[encoded data removed]",
      "text/plain": [
       "<Figure size 640x480 with 1 Axes>"
      ]
     },
     "metadata": {},
     "output_type": "display_data"
    }
   ],
   "source": [
    "area_price = newdf.groupby('area_m2')['price_brl'].mean()\n",
    "plt.scatter(area_price.index, area_price)\n",
    "plt.title('Area Vs Price')\n",
    "plt.show()"
   ]
  },
  {
   "cell_type": "code",
   "execution_count": null,
   "id": "ab88c8c4-6468-4446-ae87-e9d97b74fb4d",
   "metadata": {},
   "outputs": [],
   "source": []
  },
  {
   "cell_type": "code",
   "execution_count": null,
   "id": "8c02395a-4486-4da9-995c-61494ef16204",
   "metadata": {},
   "outputs": [],
   "source": []
  }
 ],
 "metadata": {
  "kernelspec": {
   "display_name": "Python 3 (ipykernel)",
   "language": "python",
   "name": "python3"
  },
  "language_info": {
   "codemirror_mode": {
    "name": "ipython",
    "version": 3
   },
   "file_extension": ".py",
   "mimetype": "text/x-python",
   "name": "python",
   "nbconvert_exporter": "python",
   "pygments_lexer": "ipython3",
   "version": "3.12.7"
  }
 },
 "nbformat": 4,
 "nbformat_minor": 5
}
